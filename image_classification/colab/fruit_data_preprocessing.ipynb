{
 "cells": [
  {
   "cell_type": "code",
   "execution_count": 1,
   "metadata": {},
   "outputs": [],
   "source": [
    "import cv2\n",
    "from matplotlib import pyplot as plt\n",
    "import numpy as np\n",
    "import os"
   ]
  },
  {
   "cell_type": "code",
   "execution_count": 3,
   "metadata": {},
   "outputs": [
    {
     "data": {
      "text/plain": [
       "['a1.jpg', 'a2.jpg']"
      ]
     },
     "execution_count": 3,
     "metadata": {},
     "output_type": "execute_result"
    }
   ],
   "source": [
    "#과일 사진 이름 변경\n",
    "\n",
    "file_path = 'C:/Users/sdf80/Desktop/data/fruit_classification/original/2th_dangam_before_preprocessing/'\n",
    "\n",
    "file_names = os.listdir(file_path)\n",
    "file_names"
   ]
  },
  {
   "cell_type": "code",
   "execution_count": 13,
   "metadata": {},
   "outputs": [],
   "source": [
    "i = 1\n",
    "for name in file_names:\n",
    "    src = os.path.join(file_path, name)\n",
    "    dst = 'Front_Bad_' + str(i) + '.jpg'\n",
    "    dst = os.path.join(file_path, dst)\n",
    "    os.rename(src, dst)\n",
    "    i += 1"
   ]
  },
  {
   "cell_type": "code",
   "execution_count": 2,
   "metadata": {},
   "outputs": [],
   "source": [
    "def Image_grabCut(file_name, name, x, y, w, h,\n",
    "                  file_path, save_path  ):\n",
    "    full_name=os.path.join(file_path, file_name)\n",
    "    image_bgr = cv2.imread(full_name)\n",
    "    #image_rgb = cv2.cvtColor(image_bgr, cv2.COLOR_BGR2RGB)\n",
    "    image_rgb = cv2.resize(image_bgr, dsize=(300, 300), interpolation=cv2.INTER_AREA) \n",
    "    \n",
    "    rectangle = (x, y, w, h)\n",
    "\n",
    "    mask = np.zeros(image_rgb.shape[:2], np.uint8)\n",
    "\n",
    "    bgdModel = np.zeros((1, 65), np.float64)\n",
    "    fgdModel = np.zeros((1, 65), np.float64)\n",
    "\n",
    "    cv2.grabCut(image_rgb, # 원본 이미지\n",
    "           mask,       # 마스크\n",
    "           rectangle,  # 사각형\n",
    "           bgdModel,   # 배경을 위한 임시 배열\n",
    "           fgdModel,   # 전경을 위한 임시 배열 \n",
    "           5,          # 반복 횟수\n",
    "           cv2.GC_INIT_WITH_RECT) # 사각형을 위한 초기화\n",
    "    mask_2 = np.where((mask==2) | (mask==0), 0, 1).astype('uint8')\n",
    "    image_rgb_nobg = image_rgb * mask_2[:, :, np.newaxis]\n",
    "    \n",
    "    cv2.imwrite(save_path + f'{name}.jpg', image_rgb_nobg)"
   ]
  },
  {
   "cell_type": "code",
   "execution_count": 53,
   "metadata": {},
   "outputs": [],
   "source": [
    "# 파일에 있는 모든 이미지의 배경을 날림\n",
    "def preprocessing(file_path= 'C:/Users/sdf80/Desktop/data/fruit_classification/original/2th_dangam_before_preprocessing/', \n",
    "                  save_path= 'C:/Users/sdf80/Desktop/data/fruit_classification/original/zigbakguri/', \n",
    "                  isRename= False, x=5,y=20,w=280,h=260):\n",
    "    if isRename == True:\n",
    "        Rename(file_path)\n",
    "    file_names = os.listdir(file_path)\n",
    "    k = 1\n",
    "    for _ in file_names:\n",
    "        Image_grabCut(file_name = f'{k}.jpg',name = f\"a_{k}\", x=x, y=y, w=w, h=h,file_path = file_path, save_path = save_path)\n",
    "        k += 1"
   ]
  },
  {
   "cell_type": "code",
   "execution_count": null,
   "metadata": {},
   "outputs": [],
   "source": [
    "# 카메라에서 찍은 사진들의 이미지 이름을 단순하게 바꿔줌\n",
    "def Rename(file_path):\n",
    "    file_names = os.listdir(file_path)\n",
    "    i = 1\n",
    "    for name in file_names:\n",
    "        src = os.path.join(file_path, name)\n",
    "        dst = str(i) + '.jpg'\n",
    "        dst = os.path.join(file_path, dst)\n",
    "        os.rename(src, dst)\n",
    "        i += 1"
   ]
  },
  {
   "cell_type": "code",
   "execution_count": 54,
   "metadata": {},
   "outputs": [],
   "source": [
    "preprocessing()"
   ]
  },
  {
   "cell_type": "code",
   "execution_count": 5,
   "metadata": {
    "collapsed": true
   },
   "outputs": [
    {
     "ename": "error",
     "evalue": "OpenCV(4.4.0) C:\\Users\\appveyor\\AppData\\Local\\Temp\\1\\pip-req-build-9d_dfo3_\\opencv\\modules\\imgproc\\src\\resize.cpp:3929: error: (-215:Assertion failed) !ssize.empty() in function 'cv::resize'\n",
     "output_type": "error",
     "traceback": [
      "\u001b[1;31m---------------------------------------------------------------------------\u001b[0m",
      "\u001b[1;31merror\u001b[0m                                     Traceback (most recent call last)",
      "\u001b[1;32m<ipython-input-5-8cf41afa205f>\u001b[0m in \u001b[0;36m<module>\u001b[1;34m\u001b[0m\n\u001b[0;32m      4\u001b[0m \u001b[0mw\u001b[0m\u001b[1;33m=\u001b[0m\u001b[1;36m290\u001b[0m\u001b[1;33m\u001b[0m\u001b[1;33m\u001b[0m\u001b[0m\n\u001b[0;32m      5\u001b[0m \u001b[0mh\u001b[0m\u001b[1;33m=\u001b[0m\u001b[1;36m290\u001b[0m\u001b[1;33m\u001b[0m\u001b[1;33m\u001b[0m\u001b[0m\n\u001b[1;32m----> 6\u001b[1;33m Image_grabCut(f'{name}.jpg',f\"a_{name}\", x=x, y=y, w=w, h=h, \n\u001b[0m\u001b[0;32m      7\u001b[0m               \u001b[0mfile_path\u001b[0m\u001b[1;33m=\u001b[0m \u001b[1;34m'C:/Users/sdf80/Desktop/ImageFile'\u001b[0m\u001b[1;33m,\u001b[0m\u001b[1;33m\u001b[0m\u001b[1;33m\u001b[0m\u001b[0m\n\u001b[0;32m      8\u001b[0m               save_path= 'C:/Users/sdf80/Desktop/')\n",
      "\u001b[1;32m<ipython-input-2-ec72d8fe1943>\u001b[0m in \u001b[0;36mImage_grabCut\u001b[1;34m(file_name, name, x, y, w, h, file_path, save_path)\u001b[0m\n\u001b[0;32m      4\u001b[0m     \u001b[0mimage_bgr\u001b[0m \u001b[1;33m=\u001b[0m \u001b[0mcv2\u001b[0m\u001b[1;33m.\u001b[0m\u001b[0mimread\u001b[0m\u001b[1;33m(\u001b[0m\u001b[0mfull_name\u001b[0m\u001b[1;33m)\u001b[0m\u001b[1;33m\u001b[0m\u001b[1;33m\u001b[0m\u001b[0m\n\u001b[0;32m      5\u001b[0m     \u001b[1;31m#image_rgb = cv2.cvtColor(image_bgr, cv2.COLOR_BGR2RGB)\u001b[0m\u001b[1;33m\u001b[0m\u001b[1;33m\u001b[0m\u001b[1;33m\u001b[0m\u001b[0m\n\u001b[1;32m----> 6\u001b[1;33m     \u001b[0mimage_rgb\u001b[0m \u001b[1;33m=\u001b[0m \u001b[0mcv2\u001b[0m\u001b[1;33m.\u001b[0m\u001b[0mresize\u001b[0m\u001b[1;33m(\u001b[0m\u001b[0mimage_bgr\u001b[0m\u001b[1;33m,\u001b[0m \u001b[0mdsize\u001b[0m\u001b[1;33m=\u001b[0m\u001b[1;33m(\u001b[0m\u001b[1;36m300\u001b[0m\u001b[1;33m,\u001b[0m \u001b[1;36m300\u001b[0m\u001b[1;33m)\u001b[0m\u001b[1;33m,\u001b[0m \u001b[0minterpolation\u001b[0m\u001b[1;33m=\u001b[0m\u001b[0mcv2\u001b[0m\u001b[1;33m.\u001b[0m\u001b[0mINTER_AREA\u001b[0m\u001b[1;33m)\u001b[0m\u001b[1;33m\u001b[0m\u001b[1;33m\u001b[0m\u001b[0m\n\u001b[0m\u001b[0;32m      7\u001b[0m \u001b[1;33m\u001b[0m\u001b[0m\n\u001b[0;32m      8\u001b[0m     \u001b[0mrectangle\u001b[0m \u001b[1;33m=\u001b[0m \u001b[1;33m(\u001b[0m\u001b[0mx\u001b[0m\u001b[1;33m,\u001b[0m \u001b[0my\u001b[0m\u001b[1;33m,\u001b[0m \u001b[0mw\u001b[0m\u001b[1;33m,\u001b[0m \u001b[0mh\u001b[0m\u001b[1;33m)\u001b[0m\u001b[1;33m\u001b[0m\u001b[1;33m\u001b[0m\u001b[0m\n",
      "\u001b[1;31merror\u001b[0m: OpenCV(4.4.0) C:\\Users\\appveyor\\AppData\\Local\\Temp\\1\\pip-req-build-9d_dfo3_\\opencv\\modules\\imgproc\\src\\resize.cpp:3929: error: (-215:Assertion failed) !ssize.empty() in function 'cv::resize'\n"
     ]
    }
   ],
   "source": [
    "name = '442'\n",
    "x=5\n",
    "y=0\n",
    "w=290\n",
    "h=290\n",
    "Image_grabCut(f'{name}.jpg',f\"a_{name}\", x=x, y=y, w=w, h=h, \n",
    "              file_path= 'C:/Users/sdf80/Desktop/data/fruit_classification/original/2th_dangam_before_preprocessing/', \n",
    "              save_path= 'C:/Users/sdf80/Desktop/data/fruit_classification/original/zigbakguri/')"
   ]
  },
  {
   "cell_type": "code",
   "execution_count": 19,
   "metadata": {},
   "outputs": [],
   "source": [
    "name = '2'\n",
    "x=1\n",
    "y=5\n",
    "w=298\n",
    "h=287\n",
    "Image_grabCut(f'a{name}.jpg',f\"a{name}\", x=x, y=y, w=w, h=h, \n",
    "              file_path= 'C:/Users/sdf80/Desktop/ImageFile', \n",
    "              save_path= 'C:/Users/sdf80/Desktop/')"
   ]
  },
  {
   "cell_type": "code",
   "execution_count": 115,
   "metadata": {},
   "outputs": [
    {
     "ename": "NameError",
     "evalue": "name 'Rename' is not defined",
     "output_type": "error",
     "traceback": [
      "\u001b[1;31m---------------------------------------------------------------------------\u001b[0m",
      "\u001b[1;31mNameError\u001b[0m                                 Traceback (most recent call last)",
      "\u001b[1;32m<ipython-input-115-5caa0b04366c>\u001b[0m in \u001b[0;36m<module>\u001b[1;34m\u001b[0m\n\u001b[1;32m----> 1\u001b[1;33m \u001b[0mRename\u001b[0m\u001b[1;33m(\u001b[0m\u001b[1;34m'C:/Users/sdf80/Desktop/data/fruit_classification/original/2th_dangam_before_preprocessing/'\u001b[0m\u001b[1;33m)\u001b[0m\u001b[1;33m\u001b[0m\u001b[1;33m\u001b[0m\u001b[0m\n\u001b[0m",
      "\u001b[1;31mNameError\u001b[0m: name 'Rename' is not defined"
     ]
    }
   ],
   "source": [
    "Rename('C:/Users/sdf80/Desktop/data/fruit_classification/original/2th_dangam_before_preprocessing/')"
   ]
  },
  {
   "cell_type": "code",
   "execution_count": 4,
   "metadata": {},
   "outputs": [
    {
     "ename": "TypeError",
     "evalue": "Image_grabCut() missing 4 required positional arguments: 'w', 'h', 'file_path', and 'save_path'",
     "output_type": "error",
     "traceback": [
      "\u001b[1;31m---------------------------------------------------------------------------\u001b[0m",
      "\u001b[1;31mTypeError\u001b[0m                                 Traceback (most recent call last)",
      "\u001b[1;32m<ipython-input-4-ad71e72ed7c6>\u001b[0m in \u001b[0;36m<module>\u001b[1;34m\u001b[0m\n\u001b[0;32m      3\u001b[0m     \u001b[1;31m#src = os.path.join(file_path, name)\u001b[0m\u001b[1;33m\u001b[0m\u001b[1;33m\u001b[0m\u001b[1;33m\u001b[0m\u001b[0m\n\u001b[0;32m      4\u001b[0m     \u001b[0mdst\u001b[0m \u001b[1;33m=\u001b[0m \u001b[0mstr\u001b[0m\u001b[1;33m(\u001b[0m\u001b[0mi\u001b[0m\u001b[1;33m)\u001b[0m \u001b[1;33m+\u001b[0m \u001b[1;34m'.jpg'\u001b[0m\u001b[1;33m\u001b[0m\u001b[1;33m\u001b[0m\u001b[0m\n\u001b[1;32m----> 5\u001b[1;33m     \u001b[0mImage_grabCut\u001b[0m\u001b[1;33m(\u001b[0m\u001b[0mdst\u001b[0m\u001b[1;33m,\u001b[0m \u001b[1;34mf\"a_{i}\"\u001b[0m\u001b[1;33m,\u001b[0m \u001b[0mx\u001b[0m\u001b[1;33m=\u001b[0m\u001b[1;36m150\u001b[0m\u001b[1;33m,\u001b[0m \u001b[0my\u001b[0m\u001b[1;33m=\u001b[0m\u001b[1;36m150\u001b[0m\u001b[1;33m)\u001b[0m\u001b[1;33m\u001b[0m\u001b[1;33m\u001b[0m\u001b[0m\n\u001b[0m\u001b[0;32m      6\u001b[0m     \u001b[0mi\u001b[0m \u001b[1;33m+=\u001b[0m \u001b[1;36m1\u001b[0m\u001b[1;33m\u001b[0m\u001b[1;33m\u001b[0m\u001b[0m\n",
      "\u001b[1;31mTypeError\u001b[0m: Image_grabCut() missing 4 required positional arguments: 'w', 'h', 'file_path', and 'save_path'"
     ]
    }
   ],
   "source": [
    "i = 1\n",
    "for name in file_names:\n",
    "    #src = os.path.join(file_path, name)\n",
    "    dst = str(i) + '.jpg'\n",
    "    Image_grabCut(dst, f\"a_{i}\", x=150, y=150)\n",
    "    i += 1"
   ]
  },
  {
   "cell_type": "code",
   "execution_count": 111,
   "metadata": {},
   "outputs": [],
   "source": [
    "j = 818\n",
    "\n",
    "Image_grabCut(f\"w_{j}.jpg\",f\"a_{j}\", x=1, y=3, w=295, h=295)"
   ]
  },
  {
   "cell_type": "code",
   "execution_count": null,
   "metadata": {},
   "outputs": [],
   "source": [
    "file_path2 = 'C:/Users/sdf80/Desktop/gam/' #fruit_classification/new/'\n",
    "file_path = 'C:/Users/sdf80/Desktop/new_gam/' #fruit_classification/picture/'\n",
    "#file_path = os.listdir(file_path)\n",
    "full_name=os.path.join(file_path, '1.jpg')\n",
    "image_bgr = cv2.imread(full_name)\n",
    "#image_rgb = cv2.cvtColor(image_bgr, cv2.COLOR_BGR2RGB)\n",
    "#image_rgb = cv2.resize(image_bgr, dsize=(300, 300), interpolation=cv2.INTER_AREA) "
   ]
  },
  {
   "cell_type": "code",
   "execution_count": null,
   "metadata": {},
   "outputs": [],
   "source": []
  },
  {
   "cell_type": "code",
   "execution_count": null,
   "metadata": {},
   "outputs": [],
   "source": [
    "base_dir = 'C:/Users/sdf80/Desktop/data/fruit_classification/fruit3/validation/Front_side_of_Bad_fruit/'\n",
    "new_dir = 'C:/Users/sdf80/Desktop/data/fruit_classification/fruit3/validation/Renew_Front_side_of_Bad_fruit/'\n",
    "base_names = os.listdir(base_dir)\n",
    "\n",
    "i = 1\n",
    "for name in base_names:\n",
    "    src = os.path.join(base_dir, name)\n",
    "    dst = str(i) + '.jpg'\n",
    "    image_bgr = cv2.imread(src)\n",
    "    b = []\n",
    "    for q in range(len(image_bgr[0,:,0])):\n",
    "        for r in range(len(image_bgr[:,0,0])):\n",
    "            for w in image_bgr[q,r,:]:\n",
    "                if(w == 0):\n",
    "                    b.append(1)\n",
    "                else:\n",
    "                    b.append(w)\n",
    "            image_bgr[q,r,:] = np.array(b)\n",
    "            b = []\n",
    "    \n",
    "    #print(image_bgr)\n",
    "    cv2.imwrite(new_dir + f'Front_Normal_{dst}', image_bgr)\n",
    "    i+=1"
   ]
  },
  {
   "cell_type": "code",
   "execution_count": 5,
   "metadata": {},
   "outputs": [],
   "source": [
    "i = 1"
   ]
  },
  {
   "cell_type": "markdown",
   "metadata": {},
   "source": [
    "# 파일 이름 변경"
   ]
  },
  {
   "cell_type": "code",
   "execution_count": 1,
   "metadata": {},
   "outputs": [],
   "source": [
    "import os\n",
    "import shutil\n",
    "import random"
   ]
  },
  {
   "cell_type": "code",
   "execution_count": 52,
   "metadata": {},
   "outputs": [],
   "source": [
    "# 주어진 디렉토리에 있는 항목들의 이름을 담고 있는 리스트를 반환합니다.\n",
    "# 리스트는 임의의 순서대로 나열됩니다.\n",
    "name1 = 'Back'\n",
    "name2 = 'Normal'\n",
    "file_path = f'C:/Users/sdf80/Desktop/TotalClass_2ch/{name1}{name2}/'\n",
    "file_names = os.listdir(file_path)\n",
    "file_names\n",
    "i = 0\n",
    "for name in file_names:\n",
    "    src = os.path.join(file_path, name)\n",
    "    dst = f'{name1}.{name2}.' + str(i) + '.jpg'\n",
    "    dst = os.path.join(file_path, dst)\n",
    "    os.rename(src, dst)\n",
    "    i += 1"
   ]
  },
  {
   "cell_type": "code",
   "execution_count": 1,
   "metadata": {},
   "outputs": [],
   "source": [
    "name1 = '짧다'\n",
    "name2 = '길다'\n",
    "file_path = f'C:/Users/sdf80/Desktop/TotalClass_2ch/{name1}{name2}/'\n",
    "file_names = os.listdir(file_path)\n",
    "file_names\n",
    "i = 0\n",
    "for name in file_names:\n",
    "    src = os.path.join(file_path, name)\n",
    "    dst = f'{name1}.{name2}.' + str(i) + '.jpg'\n",
    "    dst = os.path.join(file_path, dst)\n",
    "    os.rename(src, dst)\n",
    "    i += 1"
   ]
  },
  {
   "cell_type": "markdown",
   "metadata": {},
   "source": [
    "# 파일 이동"
   ]
  },
  {
   "cell_type": "code",
   "execution_count": 33,
   "metadata": {},
   "outputs": [
    {
     "name": "stdout",
     "output_type": "stream",
     "text": [
      "318\n",
      "63\n"
     ]
    }
   ],
   "source": [
    "source = 'C:/Users/sdf80/Desktop/TotalClass_2ch/SideBad/'\n",
    "files = os.listdir(source)\n",
    "totalCount = 0\n",
    "for _ in files:\n",
    "    totalCount+= 1\n",
    "print(totalCount)\n",
    "\n",
    "valicationCount = int(totalCount * 0.2)\n",
    "print(valicationCount)"
   ]
  },
  {
   "cell_type": "code",
   "execution_count": 34,
   "metadata": {},
   "outputs": [
    {
     "name": "stdout",
     "output_type": "stream",
     "text": [
      "C:/Users/sdf80/Desktop/TotalClass_2ch/ValidationSet/Side.Bad.128.jpg\n",
      "C:/Users/sdf80/Desktop/TotalClass_2ch/ValidationSet/Side.Bad.120.jpg\n",
      "C:/Users/sdf80/Desktop/TotalClass_2ch/ValidationSet/Side.Bad.234.jpg\n",
      "C:/Users/sdf80/Desktop/TotalClass_2ch/ValidationSet/Side.Bad.61.jpg\n",
      "C:/Users/sdf80/Desktop/TotalClass_2ch/ValidationSet/Side.Bad.151.jpg\n",
      "C:/Users/sdf80/Desktop/TotalClass_2ch/ValidationSet/Side.Bad.267.jpg\n",
      "C:/Users/sdf80/Desktop/TotalClass_2ch/ValidationSet/Side.Bad.165.jpg\n",
      "C:/Users/sdf80/Desktop/TotalClass_2ch/ValidationSet/Side.Bad.197.jpg\n",
      "C:/Users/sdf80/Desktop/TotalClass_2ch/ValidationSet/Side.Bad.22.jpg\n",
      "C:/Users/sdf80/Desktop/TotalClass_2ch/ValidationSet/Side.Bad.25.jpg\n",
      "C:/Users/sdf80/Desktop/TotalClass_2ch/ValidationSet/Side.Bad.83.jpg\n",
      "C:/Users/sdf80/Desktop/TotalClass_2ch/ValidationSet/Side.Bad.101.jpg\n",
      "C:/Users/sdf80/Desktop/TotalClass_2ch/ValidationSet/Side.Bad.158.jpg\n",
      "C:/Users/sdf80/Desktop/TotalClass_2ch/ValidationSet/Side.Bad.138.jpg\n",
      "C:/Users/sdf80/Desktop/TotalClass_2ch/ValidationSet/Side.Bad.3.jpg\n",
      "C:/Users/sdf80/Desktop/TotalClass_2ch/ValidationSet/Side.Bad.140.jpg\n",
      "C:/Users/sdf80/Desktop/TotalClass_2ch/ValidationSet/Side.Bad.268.jpg\n",
      "C:/Users/sdf80/Desktop/TotalClass_2ch/ValidationSet/Side.Bad.283.jpg\n",
      "C:/Users/sdf80/Desktop/TotalClass_2ch/ValidationSet/Side.Bad.223.jpg\n",
      "C:/Users/sdf80/Desktop/TotalClass_2ch/ValidationSet/Side.Bad.161.jpg\n",
      "C:/Users/sdf80/Desktop/TotalClass_2ch/ValidationSet/Side.Bad.219.jpg\n",
      "C:/Users/sdf80/Desktop/TotalClass_2ch/ValidationSet/Side.Bad.169.jpg\n",
      "C:/Users/sdf80/Desktop/TotalClass_2ch/ValidationSet/Side.Bad.201.jpg\n",
      "C:/Users/sdf80/Desktop/TotalClass_2ch/ValidationSet/Side.Bad.212.jpg\n",
      "C:/Users/sdf80/Desktop/TotalClass_2ch/ValidationSet/Side.Bad.11.jpg\n",
      "C:/Users/sdf80/Desktop/TotalClass_2ch/ValidationSet/Side.Bad.284.jpg\n",
      "C:/Users/sdf80/Desktop/TotalClass_2ch/ValidationSet/Side.Bad.84.jpg\n",
      "C:/Users/sdf80/Desktop/TotalClass_2ch/ValidationSet/Side.Bad.43.jpg\n",
      "C:/Users/sdf80/Desktop/TotalClass_2ch/ValidationSet/Side.Bad.236.jpg\n",
      "C:/Users/sdf80/Desktop/TotalClass_2ch/ValidationSet/Side.Bad.259.jpg\n",
      "C:/Users/sdf80/Desktop/TotalClass_2ch/ValidationSet/Side.Bad.189.jpg\n",
      "C:/Users/sdf80/Desktop/TotalClass_2ch/ValidationSet/Side.Bad.275.jpg\n",
      "C:/Users/sdf80/Desktop/TotalClass_2ch/ValidationSet/Side.Bad.100.jpg\n",
      "C:/Users/sdf80/Desktop/TotalClass_2ch/ValidationSet/Side.Bad.88.jpg\n",
      "C:/Users/sdf80/Desktop/TotalClass_2ch/ValidationSet/Side.Bad.38.jpg\n",
      "C:/Users/sdf80/Desktop/TotalClass_2ch/ValidationSet/Side.Bad.136.jpg\n",
      "C:/Users/sdf80/Desktop/TotalClass_2ch/ValidationSet/Side.Bad.221.jpg\n",
      "C:/Users/sdf80/Desktop/TotalClass_2ch/ValidationSet/Side.Bad.57.jpg\n",
      "C:/Users/sdf80/Desktop/TotalClass_2ch/ValidationSet/Side.Bad.0.jpg\n",
      "C:/Users/sdf80/Desktop/TotalClass_2ch/ValidationSet/Side.Bad.118.jpg\n",
      "C:/Users/sdf80/Desktop/TotalClass_2ch/ValidationSet/Side.Bad.153.jpg\n",
      "C:/Users/sdf80/Desktop/TotalClass_2ch/ValidationSet/Side.Bad.146.jpg\n",
      "C:/Users/sdf80/Desktop/TotalClass_2ch/ValidationSet/Side.Bad.172.jpg\n",
      "C:/Users/sdf80/Desktop/TotalClass_2ch/ValidationSet/Side.Bad.156.jpg\n",
      "C:/Users/sdf80/Desktop/TotalClass_2ch/ValidationSet/Side.Bad.67.jpg\n",
      "C:/Users/sdf80/Desktop/TotalClass_2ch/ValidationSet/Side.Bad.121.jpg\n",
      "C:/Users/sdf80/Desktop/TotalClass_2ch/ValidationSet/Side.Bad.274.jpg\n",
      "C:/Users/sdf80/Desktop/TotalClass_2ch/ValidationSet/Side.Bad.109.jpg\n",
      "C:/Users/sdf80/Desktop/TotalClass_2ch/ValidationSet/Side.Bad.190.jpg\n",
      "C:/Users/sdf80/Desktop/TotalClass_2ch/ValidationSet/Side.Bad.290.jpg\n",
      "C:/Users/sdf80/Desktop/TotalClass_2ch/ValidationSet/Side.Bad.69.jpg\n",
      "C:/Users/sdf80/Desktop/TotalClass_2ch/ValidationSet/Side.Bad.42.jpg\n",
      "C:/Users/sdf80/Desktop/TotalClass_2ch/ValidationSet/Side.Bad.215.jpg\n",
      "C:/Users/sdf80/Desktop/TotalClass_2ch/ValidationSet/Side.Bad.314.jpg\n",
      "C:/Users/sdf80/Desktop/TotalClass_2ch/ValidationSet/Side.Bad.115.jpg\n",
      "C:/Users/sdf80/Desktop/TotalClass_2ch/ValidationSet/Side.Bad.103.jpg\n",
      "C:/Users/sdf80/Desktop/TotalClass_2ch/ValidationSet/Side.Bad.231.jpg\n",
      "C:/Users/sdf80/Desktop/TotalClass_2ch/ValidationSet/Side.Bad.316.jpg\n",
      "C:/Users/sdf80/Desktop/TotalClass_2ch/ValidationSet/Side.Bad.5.jpg\n",
      "C:/Users/sdf80/Desktop/TotalClass_2ch/ValidationSet/Side.Bad.262.jpg\n",
      "C:/Users/sdf80/Desktop/TotalClass_2ch/ValidationSet/Side.Bad.218.jpg\n",
      "C:/Users/sdf80/Desktop/TotalClass_2ch/ValidationSet/Side.Bad.257.jpg\n",
      "C:/Users/sdf80/Desktop/TotalClass_2ch/ValidationSet/Side.Bad.72.jpg\n",
      "318\n"
     ]
    }
   ],
   "source": [
    "destination1 = 'C:/Users/sdf80/Desktop/TotalClass_2ch/ValidationSet/'\n",
    "\n",
    "random.shuffle(files)\n",
    "i = 0\n",
    "for file in files:\n",
    "    if i < valicationCount:\n",
    "        new_path1 = shutil.move(f\"{source}/{file}\", destination1)\n",
    "        print(new_path1)\n",
    "    i += 1\n",
    "print(i)   "
   ]
  },
  {
   "cell_type": "code",
   "execution_count": 35,
   "metadata": {},
   "outputs": [],
   "source": [
    "FrontNormal = 34- 6\n",
    "FrontBad = 95- 19\n",
    "BackNormal = 81- 16\n",
    "BackBad = 308- 61\n",
    "SideNormal = 104- 20\n",
    "SideBad = 318- 63"
   ]
  },
  {
   "cell_type": "code",
   "execution_count": 39,
   "metadata": {},
   "outputs": [
    {
     "name": "stdout",
     "output_type": "stream",
     "text": [
      "28\n",
      "76\n",
      "65\n",
      "247\n",
      "84\n",
      "255\n"
     ]
    }
   ],
   "source": [
    "print(FrontNormal)\n",
    "print(FrontBad)\n",
    "print(BackNormal)\n",
    "print(BackBad)\n",
    "print(SideNormal)\n",
    "print(SideBad)"
   ]
  },
  {
   "cell_type": "code",
   "execution_count": null,
   "metadata": {},
   "outputs": [],
   "source": []
  }
 ],
 "metadata": {
  "kernelspec": {
   "display_name": "Python 3",
   "language": "python",
   "name": "python3"
  },
  "language_info": {
   "codemirror_mode": {
    "name": "ipython",
    "version": 3
   },
   "file_extension": ".py",
   "mimetype": "text/x-python",
   "name": "python",
   "nbconvert_exporter": "python",
   "pygments_lexer": "ipython3",
   "version": "3.8.3"
  }
 },
 "nbformat": 4,
 "nbformat_minor": 4
}
