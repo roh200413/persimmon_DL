{
 "cells": [
  {
   "cell_type": "code",
   "execution_count": 1,
   "metadata": {},
   "outputs": [],
   "source": [
    "import numpy as np # linear algebra \n",
    "import pandas as pd # data processing, CSV file I/O (e.g. pd.read_csv) \n",
    "import matplotlib.pyplot as plt \n",
    "from PIL import Image , ImageDraw \n",
    "from sklearn.preprocessing import * \n",
    "import time \n",
    "import ast \n",
    "import os \n",
    "import keras \n",
    "import tensorflow as tf \n",
    "from keras import models, layers \n",
    "from keras import Input \n",
    "from keras.models import Model, load_model \n",
    "from keras.preprocessing.image import ImageDataGenerator \n",
    "from keras import optimizers, initializers, regularizers, metrics \n",
    "from keras.callbacks import ModelCheckpoint, EarlyStopping \n",
    "from keras.layers import BatchNormalization, Conv2D, Activation , AveragePooling2D , Input ,Dropout \n",
    "from keras.layers import Dense, GlobalAveragePooling2D, MaxPooling2D, ZeroPadding2D, Add, Flatten \n",
    "from keras.models import Sequential \n",
    "from keras.metrics import top_k_categorical_accuracy \n",
    "from keras.callbacks import ModelCheckpoint, ReduceLROnPlateau, EarlyStopping \n",
    "#from keras.applications import ResNet50, vgg19,mobilenet_v2,InceptionV3 , InceptionResNetV2,DenseNet169 \n",
    "from tqdm import tqdm \n",
    "import cv2\n",
    "from sklearn.model_selection import train_test_split \n",
    "from keras.models import load_model"
   ]
  },
  {
   "cell_type": "code",
   "execution_count": 2,
   "metadata": {},
   "outputs": [
    {
     "name": "stdout",
     "output_type": "stream",
     "text": [
      "2.5.0\n",
      "2.5.0\n"
     ]
    }
   ],
   "source": [
    "import tensorflow as tf\n",
    "print(tf.__version__)\n",
    "\n",
    "import keras\n",
    "print(keras.__version__)"
   ]
  },
  {
   "cell_type": "code",
   "execution_count": 3,
   "metadata": {},
   "outputs": [],
   "source": [
    "# outputMode = 0 -> 모델 결과값 그대로 \n",
    "# outputMode = 1 -> 결과값에 argmax 후  \n",
    "def Fruit_Classifier(inputdata, outputMode = 0):\n",
    "    # 0 = Front = [1,0,0], 1 = Back = [0,1,0], 2 = Side = = [0,0,1]\n",
    "    direction_output = direction_model.predict(inputdata)\n",
    "    Y_direction_predict = []\n",
    "    for a in direction_output:\n",
    "        Y_direction_predict.append(np.argmax(a))\n",
    "    side_list = []\n",
    "    side_number = []\n",
    "    front_list = []\n",
    "    front_number = []\n",
    "    back_list = []\n",
    "    back_number = []\n",
    "    \n",
    "    for i, b in enumerate(Y_direction_predict):\n",
    "        if b == 0 :\n",
    "            front_list.append(inputdata[i].tolist())\n",
    "            front_number.append(i)\n",
    "        elif b == 1:\n",
    "            back_list.append(inputdata[i].tolist())\n",
    "            back_number.append(i)\n",
    "        else:\n",
    "            side_list.append(inputdata[i].tolist())\n",
    "            side_number.append(i)\n",
    "    side_list = np.array(side_list)  \n",
    "    front_list = np.array(front_list) \n",
    "    back_list = np.array(back_list) \n",
    "    front_output = []\n",
    "    back_output = []\n",
    "    side_output = []\n",
    "    \n",
    "    # Bad = 0 = [1,0], Normal = 1 = [0,1]\n",
    "    if len(front_list) > 0:\n",
    "        _front_output = Front_model.predict(front_list)\n",
    "        del front_list\n",
    "        if outputMode == 0:\n",
    "            front_output.append(_front_output.tolist())\n",
    "        else:\n",
    "            for i in _front_output:\n",
    "                front_output.append(np.argmax(i))\n",
    "    if len(back_list) > 0:\n",
    "        _back_output = Back_model.predict(back_list)\n",
    "        del back_list\n",
    "        if outputMode == 0: \n",
    "            back_output.append(_back_output.tolist())\n",
    "        else:\n",
    "            for i in _back_output:\n",
    "                back_output.append(np.argmax(i))\n",
    "    if len(side_list) > 0:\n",
    "        _side_output = Side_model.predict(side_list) \n",
    "        del side_list\n",
    "        if outputMode == 0:\n",
    "            side_output.append(_side_output.tolist())\n",
    "        else:\n",
    "            for i in _side_output:\n",
    "                side_output.append(np.argmax(i))\n",
    "    return Y_direction_predict, front_number, front_output, back_number, back_output, side_number, side_output\n",
    "\n",
    "# 확률값 반환 함수\n",
    "def function1(list1, list2):\n",
    "    count = 0\n",
    "    for i, j in zip(list1, list2):\n",
    "        if i == j:\n",
    "            count += 1\n",
    "    return count / len(list1)\n",
    "\n",
    "\n",
    "#  확률값 반환 + 리스트 비교 시 값이 다른 곳의 위치 반환\n",
    "def function2(list1, list2):\n",
    "    #if list1 != list2:\n",
    "    #  return \n",
    "    count = 0\n",
    "    othervalue_list = []\n",
    "    for i, list_set in enumerate(zip(list1, list2)):\n",
    "        if list_set[0] == list_set[1]:\n",
    "            count += 1\n",
    "        else:\n",
    "            othervalue_list.append(i)\n",
    "    output_per = count / len(list1)\n",
    "    return output_per, othervalue_list\n",
    "\n",
    "# 방향 구별 모델에서 다른 결과값의 리스트 제거\n",
    "def del_list(othervalue_list, del_list):\n",
    "    for i in othervalue_list:\n",
    "        del del_list[i]\n",
    "\n",
    "#결과값 정렬 알고리즘\n",
    "def output_sorting(front_number, front_output, back_number, back_output, side_number, side_output):\n",
    "    list_output = []\n",
    "    list_num = []\n",
    "    for i in front_output:\n",
    "        list_output.append(i)\n",
    "    for i in back_output:\n",
    "        list_output.append(i)\n",
    "    for i in side_output:\n",
    "        list_output.append(i)\n",
    "        \n",
    "    for i in front_number:\n",
    "        list_num.append(i)\n",
    "    for i in back_number:\n",
    "        list_num.append(i)\n",
    "    for i in side_number:\n",
    "        list_num.append(i)\n",
    "        \n",
    "    length = len(list_num)\n",
    "    for i in range(length):\n",
    "        length2 = length - i\n",
    "        for j in range(length2):\n",
    "            if list_num[i] > list_num[j + i]:\n",
    "                num = list_num[i]\n",
    "                output = list_output[i]\n",
    "                list_num[i] = list_num[j + i]\n",
    "                list_output[i] = list_output [ j + i]\n",
    "                list_num[j + i] = num\n",
    "                list_output [ j + i] = output\n",
    "    return list_num, list_output"
   ]
  },
  {
   "cell_type": "code",
   "execution_count": 4,
   "metadata": {},
   "outputs": [
    {
     "ename": "FileNotFoundError",
     "evalue": "[WinError 3] 지정된 경로를 찾을 수 없습니다: 'C:/Users/sdf80/Desktop/ValidationData/'",
     "output_type": "error",
     "traceback": [
      "\u001b[1;31m---------------------------------------------------------------------------\u001b[0m",
      "\u001b[1;31mFileNotFoundError\u001b[0m                         Traceback (most recent call last)",
      "\u001b[1;32m<ipython-input-4-f7c099a5d4bf>\u001b[0m in \u001b[0;36m<module>\u001b[1;34m\u001b[0m\n\u001b[0;32m      1\u001b[0m \u001b[0mpath\u001b[0m \u001b[1;33m=\u001b[0m \u001b[1;34m'C:/Users/sdf80/Desktop/ValidationData/'\u001b[0m\u001b[1;33m\u001b[0m\u001b[1;33m\u001b[0m\u001b[0m\n\u001b[0;32m      2\u001b[0m \u001b[1;33m\u001b[0m\u001b[0m\n\u001b[1;32m----> 3\u001b[1;33m \u001b[0mfilename\u001b[0m \u001b[1;33m=\u001b[0m \u001b[0mos\u001b[0m\u001b[1;33m.\u001b[0m\u001b[0mlistdir\u001b[0m\u001b[1;33m(\u001b[0m\u001b[0mpath\u001b[0m\u001b[1;33m)\u001b[0m\u001b[1;33m\u001b[0m\u001b[1;33m\u001b[0m\u001b[0m\n\u001b[0m\u001b[0;32m      4\u001b[0m \u001b[0mdatalist\u001b[0m \u001b[1;33m=\u001b[0m \u001b[0mpd\u001b[0m\u001b[1;33m.\u001b[0m\u001b[0mDataFrame\u001b[0m\u001b[1;33m(\u001b[0m\u001b[0mdata\u001b[0m\u001b[1;33m=\u001b[0m\u001b[1;33m[\u001b[0m\u001b[1;33m]\u001b[0m\u001b[1;33m,\u001b[0m \u001b[0mcolumns\u001b[0m\u001b[1;33m=\u001b[0m\u001b[1;33m[\u001b[0m\u001b[1;34m'label'\u001b[0m\u001b[1;33m,\u001b[0m\u001b[1;34m'img'\u001b[0m\u001b[1;33m]\u001b[0m\u001b[1;33m)\u001b[0m\u001b[1;33m\u001b[0m\u001b[1;33m\u001b[0m\u001b[0m\n\u001b[0;32m      5\u001b[0m \u001b[1;33m\u001b[0m\u001b[0m\n",
      "\u001b[1;31mFileNotFoundError\u001b[0m: [WinError 3] 지정된 경로를 찾을 수 없습니다: 'C:/Users/sdf80/Desktop/ValidationData/'"
     ]
    }
   ],
   "source": [
    "path = 'C:/Users/sdf80/Desktop/ValidationData/'\n",
    "\n",
    "filename = os.listdir(path)\n",
    "datalist = pd.DataFrame(data=[], columns=['label','img'])\n",
    "\n",
    "label = []\n",
    "img = []\n",
    "\n",
    "for file in tqdm(filename):\n",
    "    split_label = file.split('.')\n",
    "    label.append(split_label[0]+ split_label[1])\n",
    "    img.append(file)\n",
    "    \n",
    "datalist['label'] = label\n",
    "datalist['img'] = img \n",
    "\n",
    "def preprocessing(path) :\n",
    "    X = []\n",
    "    y_FullName = []\n",
    "    y_StateNum = []\n",
    "    y_DirectionNum = []\n",
    "    class_label = []\n",
    "    class_num = 6\n",
    "    \n",
    "    for num in tqdm(range(len(datalist['img']))) :\n",
    "        img = cv2.imread(path+datalist['img'][num])\n",
    "        img = cv2.cvtColor(img,cv2.COLOR_BGR2RGB)\n",
    "        img = cv2.resize(img,(160,160))\n",
    "        \n",
    "        if datalist['label'][num] == 'SideBad': \n",
    "            X.append(img) \n",
    "            y_FullName.append('SideBad') \n",
    "            y_StateNum.append(0)\n",
    "            y_DirectionNum.append(2)\n",
    "        elif datalist['label'][num] == 'SideNormal':\n",
    "            X.append(img) \n",
    "            y_FullName.append('SideNormal')\n",
    "            y_StateNum.append(1)\n",
    "            y_DirectionNum.append(2)\n",
    "        elif datalist['label'][num] == 'FrontBad': \n",
    "            X.append(img) \n",
    "            y_FullName.append('FrontBad')\n",
    "            y_StateNum.append(0)\n",
    "            y_DirectionNum.append(0)\n",
    "        elif datalist['label'][num] == 'FrontNormal': \n",
    "            X.append(img) \n",
    "            y_FullName.append('FrontNormal')\n",
    "            y_StateNum.append(1)\n",
    "            y_DirectionNum.append(0)\n",
    "        elif datalist['label'][num] == 'BackBad': \n",
    "            X.append(img) \n",
    "            y_FullName.append('BackBad')\n",
    "            y_StateNum.append(0)\n",
    "            y_DirectionNum.append(1)\n",
    "        elif datalist['label'][num] == 'BackNormal': \n",
    "            X.append(img) \n",
    "            y_FullName.append('BackNormal')\n",
    "            y_StateNum.append(1)\n",
    "            y_DirectionNum.append(1)\n",
    "        else:\n",
    "            print('알림')\n",
    "            \n",
    "    X = np.array(X) \n",
    "    y_FullName = np.array(y_FullName) \n",
    "    y_StateNum = np.array(y_StateNum) \n",
    "    y_DirectionNum = np.array(y_DirectionNum) \n",
    "    \n",
    "    \n",
    "    #y_FullName = np.array([[i] for i in y_FullName]) \n",
    "    #y_StateNum = np.array([[i] for i in y_StateNum]) \n",
    "    #y_DirectionNum = np.array([[i] for i in y_DirectionNum]) \n",
    "    \n",
    "    #enc = OneHotEncoder(categories='auto') \n",
    "    #enc.fit(y_StateNum) \n",
    "    #tmpy = enc.transform(y_StateNum).toarray() \n",
    "\n",
    "    #del Y #RAM메모리 절약을 위해 사용하지 않는 변수 삭제\n",
    "    return X, y_FullName, y_StateNum ,y_DirectionNum, class_label , class_num\n",
    "\n",
    "\n",
    "X, y_FullName, y_StateNum, y_DirectionNum, class_label, class_num = preprocessing(path)\n",
    "X = X/ 255\n",
    "#파일이름이 담긴 배열 \n",
    "\n",
    "print(X.shape, y_FullName.shape)"
   ]
  },
  {
   "cell_type": "markdown",
   "metadata": {},
   "source": [
    "# MobileNet Weights Setting"
   ]
  },
  {
   "cell_type": "code",
   "execution_count": 4,
   "metadata": {},
   "outputs": [],
   "source": [
    "model_path = 'C:/Users/sdf80/Desktop/Colab_Model/'\n",
    "\n",
    "direction_name=os.path.join(model_path, 'Colab_Direction_Modified_MobileNet_Weight_Test.h5')\n",
    "side_name=os.path.join(model_path, 'Colab_Side_Modified_MobileNet_Weight.h5')\n",
    "front_name=os.path.join(model_path, 'Colab_Front_Modified_MobileNet_Weight.h5')\n",
    "back_name=os.path.join(model_path, 'Colab_Back_Modified_MobileNet_Weight.h5')"
   ]
  },
  {
   "cell_type": "code",
   "execution_count": 6,
   "metadata": {},
   "outputs": [],
   "source": [
    "def MobileNetConv(data, channel):\n",
    "    shortcut = data\n",
    "    x = tf.keras.layers.DepthwiseConv2D(\n",
    "    (3,3), strides=(1, 1), padding='SAME', depth_multiplier=1,\n",
    "    data_format=None, activation=None, use_bias=True,\n",
    "    depthwise_initializer='glorot_uniform', bias_initializer='zeros',\n",
    "    depthwise_regularizer=None, bias_regularizer=None, activity_regularizer=None,\n",
    "    depthwise_constraint=None, bias_constraint=None, )(data) \n",
    "    x = BatchNormalization()(x)\n",
    "    x = Activation('relu')(x)\n",
    "    x = Add()([x, shortcut])\n",
    "    x = BatchNormalization()(x)\n",
    "    x = Activation('relu')(x)\n",
    "    x = Conv2D(channel, (1,1), activation='relu', padding='SAME')(x)\n",
    "    x = BatchNormalization()(x)\n",
    "    x = Activation('relu')(x)\n",
    "    x = MaxPooling2D(pool_size=(2,2))(x)\n",
    "    return x\n",
    "\n",
    "def Model_Structure():\n",
    "    input = Input(shape=(160,160,3))\n",
    "    x = MobileNetConv(input, 32)\n",
    "    x = MobileNetConv(x, 64)\n",
    "    x = MobileNetConv(x, 128)\n",
    "    x = MobileNetConv(x, 256)\n",
    "    x = MobileNetConv(x, 512)\n",
    "    x = MobileNetConv(x, 1024)\n",
    "    x = Flatten()(x)\n",
    "    x = Dense(1000, activation='relu')(x)\n",
    "    x = Dense(2, activation='sigmoid')(x)\n",
    "    Modified_MobileNet_Model = Model(input, x)  \n",
    "    Modified_MobileNet_Model.compile(optimizer='adam',   #RMSprop(lr=0.001),\n",
    "            loss='binary_crossentropy',\n",
    "            metrics=['accuracy'])\n",
    "    return Modified_MobileNet_Model\n",
    "\n",
    "\n",
    "def Direction_Model_Structure():\n",
    "    input = Input(shape=(160,160,3))\n",
    "    x = MobileNetConv(input, 32)\n",
    "    x = MobileNetConv(x, 64)\n",
    "    x = MobileNetConv(x, 128)\n",
    "    x = MobileNetConv(x, 256)\n",
    "    x = MobileNetConv(x, 512)\n",
    "    x = MobileNetConv(x, 1024)\n",
    "    x = Flatten()(x)\n",
    "    x = Dense(1000, activation='relu')(x)\n",
    "    x = Dense(3, activation='softmax')(x)\n",
    "    Modified_MobileNet_Model = Model(input, x)  \n",
    "    Modified_MobileNet_Model.compile(optimizer='adam',   #RMSprop(lr=0.001),\n",
    "            loss='categorical_crossentropy',\n",
    "            metrics=['accuracy'])\n",
    "    return Modified_MobileNet_Model\n"
   ]
  },
  {
   "cell_type": "code",
   "execution_count": 22,
   "metadata": {
    "collapsed": true
   },
   "outputs": [
    {
     "name": "stdout",
     "output_type": "stream",
     "text": [
      "WARNING:tensorflow:\n",
      "The following Variables were used a Lambda layer's call (tf.compat.v1.nn.depthwise_conv2d_48), but\n",
      "are not present in its tracked objects:\n",
      "  <tf.Variable 'depthwise_conv2d_48/depthwise_kernel:0' shape=(3, 3, 3, 1) dtype=float32>\n",
      "It is possible that this is intended behavior, but it is more likely\n",
      "an omission. This is a strong indication that this layer should be\n",
      "formulated as a subclassed Layer rather than a Lambda layer.\n",
      "WARNING:tensorflow:\n",
      "The following Variables were used a Lambda layer's call (tf.nn.bias_add_48), but\n",
      "are not present in its tracked objects:\n",
      "  <tf.Variable 'depthwise_conv2d_48/bias:0' shape=(3,) dtype=float32>\n",
      "It is possible that this is intended behavior, but it is more likely\n",
      "an omission. This is a strong indication that this layer should be\n",
      "formulated as a subclassed Layer rather than a Lambda layer.\n",
      "WARNING:tensorflow:\n",
      "The following Variables were used a Lambda layer's call (tf.compat.v1.nn.depthwise_conv2d_49), but\n",
      "are not present in its tracked objects:\n",
      "  <tf.Variable 'depthwise_conv2d_49/depthwise_kernel:0' shape=(3, 3, 32, 1) dtype=float32>\n",
      "It is possible that this is intended behavior, but it is more likely\n",
      "an omission. This is a strong indication that this layer should be\n",
      "formulated as a subclassed Layer rather than a Lambda layer.\n",
      "WARNING:tensorflow:\n",
      "The following Variables were used a Lambda layer's call (tf.nn.bias_add_49), but\n",
      "are not present in its tracked objects:\n",
      "  <tf.Variable 'depthwise_conv2d_49/bias:0' shape=(32,) dtype=float32>\n",
      "It is possible that this is intended behavior, but it is more likely\n",
      "an omission. This is a strong indication that this layer should be\n",
      "formulated as a subclassed Layer rather than a Lambda layer.\n",
      "WARNING:tensorflow:\n",
      "The following Variables were used a Lambda layer's call (tf.compat.v1.nn.depthwise_conv2d_50), but\n",
      "are not present in its tracked objects:\n",
      "  <tf.Variable 'depthwise_conv2d_50/depthwise_kernel:0' shape=(3, 3, 64, 1) dtype=float32>\n",
      "It is possible that this is intended behavior, but it is more likely\n",
      "an omission. This is a strong indication that this layer should be\n",
      "formulated as a subclassed Layer rather than a Lambda layer.\n",
      "WARNING:tensorflow:\n",
      "The following Variables were used a Lambda layer's call (tf.nn.bias_add_50), but\n",
      "are not present in its tracked objects:\n",
      "  <tf.Variable 'depthwise_conv2d_50/bias:0' shape=(64,) dtype=float32>\n",
      "It is possible that this is intended behavior, but it is more likely\n",
      "an omission. This is a strong indication that this layer should be\n",
      "formulated as a subclassed Layer rather than a Lambda layer.\n",
      "WARNING:tensorflow:\n",
      "The following Variables were used a Lambda layer's call (tf.compat.v1.nn.depthwise_conv2d_51), but\n",
      "are not present in its tracked objects:\n",
      "  <tf.Variable 'depthwise_conv2d_51/depthwise_kernel:0' shape=(3, 3, 128, 1) dtype=float32>\n",
      "It is possible that this is intended behavior, but it is more likely\n",
      "an omission. This is a strong indication that this layer should be\n",
      "formulated as a subclassed Layer rather than a Lambda layer.\n",
      "WARNING:tensorflow:\n",
      "The following Variables were used a Lambda layer's call (tf.nn.bias_add_51), but\n",
      "are not present in its tracked objects:\n",
      "  <tf.Variable 'depthwise_conv2d_51/bias:0' shape=(128,) dtype=float32>\n",
      "It is possible that this is intended behavior, but it is more likely\n",
      "an omission. This is a strong indication that this layer should be\n",
      "formulated as a subclassed Layer rather than a Lambda layer.\n",
      "WARNING:tensorflow:\n",
      "The following Variables were used a Lambda layer's call (tf.compat.v1.nn.depthwise_conv2d_52), but\n",
      "are not present in its tracked objects:\n",
      "  <tf.Variable 'depthwise_conv2d_52/depthwise_kernel:0' shape=(3, 3, 256, 1) dtype=float32>\n",
      "It is possible that this is intended behavior, but it is more likely\n",
      "an omission. This is a strong indication that this layer should be\n",
      "formulated as a subclassed Layer rather than a Lambda layer.\n",
      "WARNING:tensorflow:\n",
      "The following Variables were used a Lambda layer's call (tf.nn.bias_add_52), but\n",
      "are not present in its tracked objects:\n",
      "  <tf.Variable 'depthwise_conv2d_52/bias:0' shape=(256,) dtype=float32>\n",
      "It is possible that this is intended behavior, but it is more likely\n",
      "an omission. This is a strong indication that this layer should be\n",
      "formulated as a subclassed Layer rather than a Lambda layer.\n",
      "WARNING:tensorflow:\n",
      "The following Variables were used a Lambda layer's call (tf.compat.v1.nn.depthwise_conv2d_53), but\n",
      "are not present in its tracked objects:\n",
      "  <tf.Variable 'depthwise_conv2d_53/depthwise_kernel:0' shape=(3, 3, 512, 1) dtype=float32>\n",
      "It is possible that this is intended behavior, but it is more likely\n",
      "an omission. This is a strong indication that this layer should be\n",
      "formulated as a subclassed Layer rather than a Lambda layer.\n",
      "WARNING:tensorflow:\n",
      "The following Variables were used a Lambda layer's call (tf.nn.bias_add_53), but\n",
      "are not present in its tracked objects:\n",
      "  <tf.Variable 'depthwise_conv2d_53/bias:0' shape=(512,) dtype=float32>\n",
      "It is possible that this is intended behavior, but it is more likely\n",
      "an omission. This is a strong indication that this layer should be\n",
      "formulated as a subclassed Layer rather than a Lambda layer.\n",
      "WARNING:tensorflow:\n",
      "The following Variables were used a Lambda layer's call (tf.compat.v1.nn.depthwise_conv2d_54), but\n",
      "are not present in its tracked objects:\n",
      "  <tf.Variable 'depthwise_conv2d_54/depthwise_kernel:0' shape=(3, 3, 3, 1) dtype=float32>\n",
      "It is possible that this is intended behavior, but it is more likely\n",
      "an omission. This is a strong indication that this layer should be\n",
      "formulated as a subclassed Layer rather than a Lambda layer.\n",
      "WARNING:tensorflow:\n",
      "The following Variables were used a Lambda layer's call (tf.nn.bias_add_54), but\n",
      "are not present in its tracked objects:\n",
      "  <tf.Variable 'depthwise_conv2d_54/bias:0' shape=(3,) dtype=float32>\n",
      "It is possible that this is intended behavior, but it is more likely\n",
      "an omission. This is a strong indication that this layer should be\n",
      "formulated as a subclassed Layer rather than a Lambda layer.\n",
      "WARNING:tensorflow:\n",
      "The following Variables were used a Lambda layer's call (tf.compat.v1.nn.depthwise_conv2d_55), but\n",
      "are not present in its tracked objects:\n",
      "  <tf.Variable 'depthwise_conv2d_55/depthwise_kernel:0' shape=(3, 3, 32, 1) dtype=float32>\n",
      "It is possible that this is intended behavior, but it is more likely\n",
      "an omission. This is a strong indication that this layer should be\n",
      "formulated as a subclassed Layer rather than a Lambda layer.\n",
      "WARNING:tensorflow:\n",
      "The following Variables were used a Lambda layer's call (tf.nn.bias_add_55), but\n",
      "are not present in its tracked objects:\n",
      "  <tf.Variable 'depthwise_conv2d_55/bias:0' shape=(32,) dtype=float32>\n",
      "It is possible that this is intended behavior, but it is more likely\n",
      "an omission. This is a strong indication that this layer should be\n",
      "formulated as a subclassed Layer rather than a Lambda layer.\n",
      "WARNING:tensorflow:\n",
      "The following Variables were used a Lambda layer's call (tf.compat.v1.nn.depthwise_conv2d_56), but\n",
      "are not present in its tracked objects:\n",
      "  <tf.Variable 'depthwise_conv2d_56/depthwise_kernel:0' shape=(3, 3, 64, 1) dtype=float32>\n",
      "It is possible that this is intended behavior, but it is more likely\n",
      "an omission. This is a strong indication that this layer should be\n",
      "formulated as a subclassed Layer rather than a Lambda layer.\n",
      "WARNING:tensorflow:\n",
      "The following Variables were used a Lambda layer's call (tf.nn.bias_add_56), but\n",
      "are not present in its tracked objects:\n",
      "  <tf.Variable 'depthwise_conv2d_56/bias:0' shape=(64,) dtype=float32>\n",
      "It is possible that this is intended behavior, but it is more likely\n",
      "an omission. This is a strong indication that this layer should be\n",
      "formulated as a subclassed Layer rather than a Lambda layer.\n",
      "WARNING:tensorflow:\n",
      "The following Variables were used a Lambda layer's call (tf.compat.v1.nn.depthwise_conv2d_57), but\n",
      "are not present in its tracked objects:\n",
      "  <tf.Variable 'depthwise_conv2d_57/depthwise_kernel:0' shape=(3, 3, 128, 1) dtype=float32>\n",
      "It is possible that this is intended behavior, but it is more likely\n",
      "an omission. This is a strong indication that this layer should be\n",
      "formulated as a subclassed Layer rather than a Lambda layer.\n",
      "WARNING:tensorflow:\n",
      "The following Variables were used a Lambda layer's call (tf.nn.bias_add_57), but\n",
      "are not present in its tracked objects:\n",
      "  <tf.Variable 'depthwise_conv2d_57/bias:0' shape=(128,) dtype=float32>\n",
      "It is possible that this is intended behavior, but it is more likely\n",
      "an omission. This is a strong indication that this layer should be\n",
      "formulated as a subclassed Layer rather than a Lambda layer.\n"
     ]
    },
    {
     "name": "stdout",
     "output_type": "stream",
     "text": [
      "WARNING:tensorflow:\n",
      "The following Variables were used a Lambda layer's call (tf.compat.v1.nn.depthwise_conv2d_58), but\n",
      "are not present in its tracked objects:\n",
      "  <tf.Variable 'depthwise_conv2d_58/depthwise_kernel:0' shape=(3, 3, 256, 1) dtype=float32>\n",
      "It is possible that this is intended behavior, but it is more likely\n",
      "an omission. This is a strong indication that this layer should be\n",
      "formulated as a subclassed Layer rather than a Lambda layer.\n",
      "WARNING:tensorflow:\n",
      "The following Variables were used a Lambda layer's call (tf.nn.bias_add_58), but\n",
      "are not present in its tracked objects:\n",
      "  <tf.Variable 'depthwise_conv2d_58/bias:0' shape=(256,) dtype=float32>\n",
      "It is possible that this is intended behavior, but it is more likely\n",
      "an omission. This is a strong indication that this layer should be\n",
      "formulated as a subclassed Layer rather than a Lambda layer.\n",
      "WARNING:tensorflow:\n",
      "The following Variables were used a Lambda layer's call (tf.compat.v1.nn.depthwise_conv2d_59), but\n",
      "are not present in its tracked objects:\n",
      "  <tf.Variable 'depthwise_conv2d_59/depthwise_kernel:0' shape=(3, 3, 512, 1) dtype=float32>\n",
      "It is possible that this is intended behavior, but it is more likely\n",
      "an omission. This is a strong indication that this layer should be\n",
      "formulated as a subclassed Layer rather than a Lambda layer.\n",
      "WARNING:tensorflow:\n",
      "The following Variables were used a Lambda layer's call (tf.nn.bias_add_59), but\n",
      "are not present in its tracked objects:\n",
      "  <tf.Variable 'depthwise_conv2d_59/bias:0' shape=(512,) dtype=float32>\n",
      "It is possible that this is intended behavior, but it is more likely\n",
      "an omission. This is a strong indication that this layer should be\n",
      "formulated as a subclassed Layer rather than a Lambda layer.\n",
      "WARNING:tensorflow:\n",
      "The following Variables were used a Lambda layer's call (tf.compat.v1.nn.depthwise_conv2d_60), but\n",
      "are not present in its tracked objects:\n",
      "  <tf.Variable 'depthwise_conv2d_60/depthwise_kernel:0' shape=(3, 3, 3, 1) dtype=float32>\n",
      "It is possible that this is intended behavior, but it is more likely\n",
      "an omission. This is a strong indication that this layer should be\n",
      "formulated as a subclassed Layer rather than a Lambda layer.\n",
      "WARNING:tensorflow:\n",
      "The following Variables were used a Lambda layer's call (tf.nn.bias_add_60), but\n",
      "are not present in its tracked objects:\n",
      "  <tf.Variable 'depthwise_conv2d_60/bias:0' shape=(3,) dtype=float32>\n",
      "It is possible that this is intended behavior, but it is more likely\n",
      "an omission. This is a strong indication that this layer should be\n",
      "formulated as a subclassed Layer rather than a Lambda layer.\n",
      "WARNING:tensorflow:\n",
      "The following Variables were used a Lambda layer's call (tf.compat.v1.nn.depthwise_conv2d_61), but\n",
      "are not present in its tracked objects:\n",
      "  <tf.Variable 'depthwise_conv2d_61/depthwise_kernel:0' shape=(3, 3, 32, 1) dtype=float32>\n",
      "It is possible that this is intended behavior, but it is more likely\n",
      "an omission. This is a strong indication that this layer should be\n",
      "formulated as a subclassed Layer rather than a Lambda layer.\n",
      "WARNING:tensorflow:\n",
      "The following Variables were used a Lambda layer's call (tf.nn.bias_add_61), but\n",
      "are not present in its tracked objects:\n",
      "  <tf.Variable 'depthwise_conv2d_61/bias:0' shape=(32,) dtype=float32>\n",
      "It is possible that this is intended behavior, but it is more likely\n",
      "an omission. This is a strong indication that this layer should be\n",
      "formulated as a subclassed Layer rather than a Lambda layer.\n",
      "WARNING:tensorflow:\n",
      "The following Variables were used a Lambda layer's call (tf.compat.v1.nn.depthwise_conv2d_62), but\n",
      "are not present in its tracked objects:\n",
      "  <tf.Variable 'depthwise_conv2d_62/depthwise_kernel:0' shape=(3, 3, 64, 1) dtype=float32>\n",
      "It is possible that this is intended behavior, but it is more likely\n",
      "an omission. This is a strong indication that this layer should be\n",
      "formulated as a subclassed Layer rather than a Lambda layer.\n",
      "WARNING:tensorflow:\n",
      "The following Variables were used a Lambda layer's call (tf.nn.bias_add_62), but\n",
      "are not present in its tracked objects:\n",
      "  <tf.Variable 'depthwise_conv2d_62/bias:0' shape=(64,) dtype=float32>\n",
      "It is possible that this is intended behavior, but it is more likely\n",
      "an omission. This is a strong indication that this layer should be\n",
      "formulated as a subclassed Layer rather than a Lambda layer.\n",
      "WARNING:tensorflow:\n",
      "The following Variables were used a Lambda layer's call (tf.compat.v1.nn.depthwise_conv2d_63), but\n",
      "are not present in its tracked objects:\n",
      "  <tf.Variable 'depthwise_conv2d_63/depthwise_kernel:0' shape=(3, 3, 128, 1) dtype=float32>\n",
      "It is possible that this is intended behavior, but it is more likely\n",
      "an omission. This is a strong indication that this layer should be\n",
      "formulated as a subclassed Layer rather than a Lambda layer.\n",
      "WARNING:tensorflow:\n",
      "The following Variables were used a Lambda layer's call (tf.nn.bias_add_63), but\n",
      "are not present in its tracked objects:\n",
      "  <tf.Variable 'depthwise_conv2d_63/bias:0' shape=(128,) dtype=float32>\n",
      "It is possible that this is intended behavior, but it is more likely\n",
      "an omission. This is a strong indication that this layer should be\n",
      "formulated as a subclassed Layer rather than a Lambda layer.\n",
      "WARNING:tensorflow:\n",
      "The following Variables were used a Lambda layer's call (tf.compat.v1.nn.depthwise_conv2d_64), but\n",
      "are not present in its tracked objects:\n",
      "  <tf.Variable 'depthwise_conv2d_64/depthwise_kernel:0' shape=(3, 3, 256, 1) dtype=float32>\n",
      "It is possible that this is intended behavior, but it is more likely\n",
      "an omission. This is a strong indication that this layer should be\n",
      "formulated as a subclassed Layer rather than a Lambda layer.\n",
      "WARNING:tensorflow:\n",
      "The following Variables were used a Lambda layer's call (tf.nn.bias_add_64), but\n",
      "are not present in its tracked objects:\n",
      "  <tf.Variable 'depthwise_conv2d_64/bias:0' shape=(256,) dtype=float32>\n",
      "It is possible that this is intended behavior, but it is more likely\n",
      "an omission. This is a strong indication that this layer should be\n",
      "formulated as a subclassed Layer rather than a Lambda layer.\n",
      "WARNING:tensorflow:\n",
      "The following Variables were used a Lambda layer's call (tf.compat.v1.nn.depthwise_conv2d_65), but\n",
      "are not present in its tracked objects:\n",
      "  <tf.Variable 'depthwise_conv2d_65/depthwise_kernel:0' shape=(3, 3, 512, 1) dtype=float32>\n",
      "It is possible that this is intended behavior, but it is more likely\n",
      "an omission. This is a strong indication that this layer should be\n",
      "formulated as a subclassed Layer rather than a Lambda layer.\n",
      "WARNING:tensorflow:\n",
      "The following Variables were used a Lambda layer's call (tf.nn.bias_add_65), but\n",
      "are not present in its tracked objects:\n",
      "  <tf.Variable 'depthwise_conv2d_65/bias:0' shape=(512,) dtype=float32>\n",
      "It is possible that this is intended behavior, but it is more likely\n",
      "an omission. This is a strong indication that this layer should be\n",
      "formulated as a subclassed Layer rather than a Lambda layer.\n",
      "WARNING:tensorflow:\n",
      "The following Variables were used a Lambda layer's call (tf.compat.v1.nn.depthwise_conv2d_66), but\n",
      "are not present in its tracked objects:\n",
      "  <tf.Variable 'depthwise_conv2d_66/depthwise_kernel:0' shape=(3, 3, 3, 1) dtype=float32>\n",
      "It is possible that this is intended behavior, but it is more likely\n",
      "an omission. This is a strong indication that this layer should be\n",
      "formulated as a subclassed Layer rather than a Lambda layer.\n",
      "WARNING:tensorflow:\n",
      "The following Variables were used a Lambda layer's call (tf.nn.bias_add_66), but\n",
      "are not present in its tracked objects:\n",
      "  <tf.Variable 'depthwise_conv2d_66/bias:0' shape=(3,) dtype=float32>\n",
      "It is possible that this is intended behavior, but it is more likely\n",
      "an omission. This is a strong indication that this layer should be\n",
      "formulated as a subclassed Layer rather than a Lambda layer.\n",
      "WARNING:tensorflow:\n",
      "The following Variables were used a Lambda layer's call (tf.compat.v1.nn.depthwise_conv2d_67), but\n",
      "are not present in its tracked objects:\n",
      "  <tf.Variable 'depthwise_conv2d_67/depthwise_kernel:0' shape=(3, 3, 32, 1) dtype=float32>\n",
      "It is possible that this is intended behavior, but it is more likely\n",
      "an omission. This is a strong indication that this layer should be\n",
      "formulated as a subclassed Layer rather than a Lambda layer.\n",
      "WARNING:tensorflow:\n",
      "The following Variables were used a Lambda layer's call (tf.nn.bias_add_67), but\n",
      "are not present in its tracked objects:\n",
      "  <tf.Variable 'depthwise_conv2d_67/bias:0' shape=(32,) dtype=float32>\n",
      "It is possible that this is intended behavior, but it is more likely\n",
      "an omission. This is a strong indication that this layer should be\n",
      "formulated as a subclassed Layer rather than a Lambda layer.\n"
     ]
    },
    {
     "name": "stdout",
     "output_type": "stream",
     "text": [
      "WARNING:tensorflow:\n",
      "The following Variables were used a Lambda layer's call (tf.compat.v1.nn.depthwise_conv2d_68), but\n",
      "are not present in its tracked objects:\n",
      "  <tf.Variable 'depthwise_conv2d_68/depthwise_kernel:0' shape=(3, 3, 64, 1) dtype=float32>\n",
      "It is possible that this is intended behavior, but it is more likely\n",
      "an omission. This is a strong indication that this layer should be\n",
      "formulated as a subclassed Layer rather than a Lambda layer.\n",
      "WARNING:tensorflow:\n",
      "The following Variables were used a Lambda layer's call (tf.nn.bias_add_68), but\n",
      "are not present in its tracked objects:\n",
      "  <tf.Variable 'depthwise_conv2d_68/bias:0' shape=(64,) dtype=float32>\n",
      "It is possible that this is intended behavior, but it is more likely\n",
      "an omission. This is a strong indication that this layer should be\n",
      "formulated as a subclassed Layer rather than a Lambda layer.\n",
      "WARNING:tensorflow:\n",
      "The following Variables were used a Lambda layer's call (tf.compat.v1.nn.depthwise_conv2d_69), but\n",
      "are not present in its tracked objects:\n",
      "  <tf.Variable 'depthwise_conv2d_69/depthwise_kernel:0' shape=(3, 3, 128, 1) dtype=float32>\n",
      "It is possible that this is intended behavior, but it is more likely\n",
      "an omission. This is a strong indication that this layer should be\n",
      "formulated as a subclassed Layer rather than a Lambda layer.\n",
      "WARNING:tensorflow:\n",
      "The following Variables were used a Lambda layer's call (tf.nn.bias_add_69), but\n",
      "are not present in its tracked objects:\n",
      "  <tf.Variable 'depthwise_conv2d_69/bias:0' shape=(128,) dtype=float32>\n",
      "It is possible that this is intended behavior, but it is more likely\n",
      "an omission. This is a strong indication that this layer should be\n",
      "formulated as a subclassed Layer rather than a Lambda layer.\n",
      "WARNING:tensorflow:\n",
      "The following Variables were used a Lambda layer's call (tf.compat.v1.nn.depthwise_conv2d_70), but\n",
      "are not present in its tracked objects:\n",
      "  <tf.Variable 'depthwise_conv2d_70/depthwise_kernel:0' shape=(3, 3, 256, 1) dtype=float32>\n",
      "It is possible that this is intended behavior, but it is more likely\n",
      "an omission. This is a strong indication that this layer should be\n",
      "formulated as a subclassed Layer rather than a Lambda layer.\n",
      "WARNING:tensorflow:\n",
      "The following Variables were used a Lambda layer's call (tf.nn.bias_add_70), but\n",
      "are not present in its tracked objects:\n",
      "  <tf.Variable 'depthwise_conv2d_70/bias:0' shape=(256,) dtype=float32>\n",
      "It is possible that this is intended behavior, but it is more likely\n",
      "an omission. This is a strong indication that this layer should be\n",
      "formulated as a subclassed Layer rather than a Lambda layer.\n",
      "WARNING:tensorflow:\n",
      "The following Variables were used a Lambda layer's call (tf.compat.v1.nn.depthwise_conv2d_71), but\n",
      "are not present in its tracked objects:\n",
      "  <tf.Variable 'depthwise_conv2d_71/depthwise_kernel:0' shape=(3, 3, 512, 1) dtype=float32>\n",
      "It is possible that this is intended behavior, but it is more likely\n",
      "an omission. This is a strong indication that this layer should be\n",
      "formulated as a subclassed Layer rather than a Lambda layer.\n",
      "WARNING:tensorflow:\n",
      "The following Variables were used a Lambda layer's call (tf.nn.bias_add_71), but\n",
      "are not present in its tracked objects:\n",
      "  <tf.Variable 'depthwise_conv2d_71/bias:0' shape=(512,) dtype=float32>\n",
      "It is possible that this is intended behavior, but it is more likely\n",
      "an omission. This is a strong indication that this layer should be\n",
      "formulated as a subclassed Layer rather than a Lambda layer.\n",
      "Model: \"model_8\"\n",
      "__________________________________________________________________________________________________\n",
      "Layer (type)                    Output Shape         Param #     Connected to                     \n",
      "==================================================================================================\n",
      "input_9 (InputLayer)            [(None, 160, 160, 3) 0                                            \n",
      "__________________________________________________________________________________________________\n",
      "tf.compat.v1.nn.depthwise_conv2 (None, 160, 160, 3)  0           input_9[0][0]                    \n",
      "__________________________________________________________________________________________________\n",
      "tf.nn.bias_add_48 (TFOpLambda)  (None, 160, 160, 3)  0           tf.compat.v1.nn.depthwise_conv2d_\n",
      "__________________________________________________________________________________________________\n",
      "batch_normalization_144 (BatchN (None, 160, 160, 3)  12          tf.nn.bias_add_48[0][0]          \n",
      "__________________________________________________________________________________________________\n",
      "activation_144 (Activation)     (None, 160, 160, 3)  0           batch_normalization_144[0][0]    \n",
      "__________________________________________________________________________________________________\n",
      "add_48 (Add)                    (None, 160, 160, 3)  0           activation_144[0][0]             \n",
      "                                                                 input_9[0][0]                    \n",
      "__________________________________________________________________________________________________\n",
      "batch_normalization_145 (BatchN (None, 160, 160, 3)  12          add_48[0][0]                     \n",
      "__________________________________________________________________________________________________\n",
      "activation_145 (Activation)     (None, 160, 160, 3)  0           batch_normalization_145[0][0]    \n",
      "__________________________________________________________________________________________________\n",
      "conv2d_48 (Conv2D)              (None, 160, 160, 32) 128         activation_145[0][0]             \n",
      "__________________________________________________________________________________________________\n",
      "batch_normalization_146 (BatchN (None, 160, 160, 32) 128         conv2d_48[0][0]                  \n",
      "__________________________________________________________________________________________________\n",
      "activation_146 (Activation)     (None, 160, 160, 32) 0           batch_normalization_146[0][0]    \n",
      "__________________________________________________________________________________________________\n",
      "max_pooling2d_48 (MaxPooling2D) (None, 80, 80, 32)   0           activation_146[0][0]             \n",
      "__________________________________________________________________________________________________\n",
      "tf.compat.v1.nn.depthwise_conv2 (None, 80, 80, 32)   0           max_pooling2d_48[0][0]           \n",
      "__________________________________________________________________________________________________\n",
      "tf.nn.bias_add_49 (TFOpLambda)  (None, 80, 80, 32)   0           tf.compat.v1.nn.depthwise_conv2d_\n",
      "__________________________________________________________________________________________________\n",
      "batch_normalization_147 (BatchN (None, 80, 80, 32)   128         tf.nn.bias_add_49[0][0]          \n",
      "__________________________________________________________________________________________________\n",
      "activation_147 (Activation)     (None, 80, 80, 32)   0           batch_normalization_147[0][0]    \n",
      "__________________________________________________________________________________________________\n",
      "add_49 (Add)                    (None, 80, 80, 32)   0           activation_147[0][0]             \n",
      "                                                                 max_pooling2d_48[0][0]           \n",
      "__________________________________________________________________________________________________\n",
      "batch_normalization_148 (BatchN (None, 80, 80, 32)   128         add_49[0][0]                     \n",
      "__________________________________________________________________________________________________\n",
      "activation_148 (Activation)     (None, 80, 80, 32)   0           batch_normalization_148[0][0]    \n",
      "__________________________________________________________________________________________________\n",
      "conv2d_49 (Conv2D)              (None, 80, 80, 64)   2112        activation_148[0][0]             \n",
      "__________________________________________________________________________________________________\n",
      "batch_normalization_149 (BatchN (None, 80, 80, 64)   256         conv2d_49[0][0]                  \n",
      "__________________________________________________________________________________________________\n",
      "activation_149 (Activation)     (None, 80, 80, 64)   0           batch_normalization_149[0][0]    \n",
      "__________________________________________________________________________________________________\n",
      "max_pooling2d_49 (MaxPooling2D) (None, 40, 40, 64)   0           activation_149[0][0]             \n",
      "__________________________________________________________________________________________________\n",
      "tf.compat.v1.nn.depthwise_conv2 (None, 40, 40, 64)   0           max_pooling2d_49[0][0]           \n",
      "__________________________________________________________________________________________________\n",
      "tf.nn.bias_add_50 (TFOpLambda)  (None, 40, 40, 64)   0           tf.compat.v1.nn.depthwise_conv2d_\n",
      "__________________________________________________________________________________________________\n",
      "batch_normalization_150 (BatchN (None, 40, 40, 64)   256         tf.nn.bias_add_50[0][0]          \n",
      "__________________________________________________________________________________________________\n",
      "activation_150 (Activation)     (None, 40, 40, 64)   0           batch_normalization_150[0][0]    \n",
      "__________________________________________________________________________________________________\n",
      "add_50 (Add)                    (None, 40, 40, 64)   0           activation_150[0][0]             \n",
      "                                                                 max_pooling2d_49[0][0]           \n",
      "__________________________________________________________________________________________________\n",
      "batch_normalization_151 (BatchN (None, 40, 40, 64)   256         add_50[0][0]                     \n",
      "__________________________________________________________________________________________________\n",
      "activation_151 (Activation)     (None, 40, 40, 64)   0           batch_normalization_151[0][0]    \n",
      "__________________________________________________________________________________________________\n",
      "conv2d_50 (Conv2D)              (None, 40, 40, 128)  8320        activation_151[0][0]             \n",
      "__________________________________________________________________________________________________\n",
      "batch_normalization_152 (BatchN (None, 40, 40, 128)  512         conv2d_50[0][0]                  \n",
      "__________________________________________________________________________________________________\n",
      "activation_152 (Activation)     (None, 40, 40, 128)  0           batch_normalization_152[0][0]    \n",
      "__________________________________________________________________________________________________\n",
      "max_pooling2d_50 (MaxPooling2D) (None, 20, 20, 128)  0           activation_152[0][0]             \n",
      "__________________________________________________________________________________________________\n",
      "tf.compat.v1.nn.depthwise_conv2 (None, 20, 20, 128)  0           max_pooling2d_50[0][0]           \n",
      "__________________________________________________________________________________________________\n",
      "tf.nn.bias_add_51 (TFOpLambda)  (None, 20, 20, 128)  0           tf.compat.v1.nn.depthwise_conv2d_\n",
      "__________________________________________________________________________________________________\n",
      "batch_normalization_153 (BatchN (None, 20, 20, 128)  512         tf.nn.bias_add_51[0][0]          \n",
      "__________________________________________________________________________________________________\n",
      "activation_153 (Activation)     (None, 20, 20, 128)  0           batch_normalization_153[0][0]    \n",
      "__________________________________________________________________________________________________\n",
      "add_51 (Add)                    (None, 20, 20, 128)  0           activation_153[0][0]             \n",
      "                                                                 max_pooling2d_50[0][0]           \n",
      "__________________________________________________________________________________________________\n",
      "batch_normalization_154 (BatchN (None, 20, 20, 128)  512         add_51[0][0]                     \n",
      "__________________________________________________________________________________________________\n",
      "activation_154 (Activation)     (None, 20, 20, 128)  0           batch_normalization_154[0][0]    \n",
      "__________________________________________________________________________________________________\n",
      "conv2d_51 (Conv2D)              (None, 20, 20, 256)  33024       activation_154[0][0]             \n",
      "__________________________________________________________________________________________________\n",
      "batch_normalization_155 (BatchN (None, 20, 20, 256)  1024        conv2d_51[0][0]                  \n",
      "__________________________________________________________________________________________________\n",
      "activation_155 (Activation)     (None, 20, 20, 256)  0           batch_normalization_155[0][0]    \n",
      "__________________________________________________________________________________________________\n",
      "max_pooling2d_51 (MaxPooling2D) (None, 10, 10, 256)  0           activation_155[0][0]             \n",
      "__________________________________________________________________________________________________\n",
      "tf.compat.v1.nn.depthwise_conv2 (None, 10, 10, 256)  0           max_pooling2d_51[0][0]           \n",
      "__________________________________________________________________________________________________\n",
      "tf.nn.bias_add_52 (TFOpLambda)  (None, 10, 10, 256)  0           tf.compat.v1.nn.depthwise_conv2d_\n",
      "__________________________________________________________________________________________________\n",
      "batch_normalization_156 (BatchN (None, 10, 10, 256)  1024        tf.nn.bias_add_52[0][0]          \n",
      "__________________________________________________________________________________________________\n",
      "activation_156 (Activation)     (None, 10, 10, 256)  0           batch_normalization_156[0][0]    \n",
      "__________________________________________________________________________________________________\n",
      "add_52 (Add)                    (None, 10, 10, 256)  0           activation_156[0][0]             \n",
      "                                                                 max_pooling2d_51[0][0]           \n",
      "__________________________________________________________________________________________________\n",
      "batch_normalization_157 (BatchN (None, 10, 10, 256)  1024        add_52[0][0]                     \n",
      "__________________________________________________________________________________________________\n",
      "activation_157 (Activation)     (None, 10, 10, 256)  0           batch_normalization_157[0][0]    \n",
      "__________________________________________________________________________________________________\n",
      "conv2d_52 (Conv2D)              (None, 10, 10, 512)  131584      activation_157[0][0]             \n",
      "__________________________________________________________________________________________________\n",
      "batch_normalization_158 (BatchN (None, 10, 10, 512)  2048        conv2d_52[0][0]                  \n",
      "__________________________________________________________________________________________________\n",
      "activation_158 (Activation)     (None, 10, 10, 512)  0           batch_normalization_158[0][0]    \n",
      "__________________________________________________________________________________________________\n",
      "max_pooling2d_52 (MaxPooling2D) (None, 5, 5, 512)    0           activation_158[0][0]             \n",
      "__________________________________________________________________________________________________\n",
      "tf.compat.v1.nn.depthwise_conv2 (None, 5, 5, 512)    0           max_pooling2d_52[0][0]           \n",
      "__________________________________________________________________________________________________\n",
      "tf.nn.bias_add_53 (TFOpLambda)  (None, 5, 5, 512)    0           tf.compat.v1.nn.depthwise_conv2d_\n",
      "__________________________________________________________________________________________________\n",
      "batch_normalization_159 (BatchN (None, 5, 5, 512)    2048        tf.nn.bias_add_53[0][0]          \n",
      "__________________________________________________________________________________________________\n",
      "activation_159 (Activation)     (None, 5, 5, 512)    0           batch_normalization_159[0][0]    \n",
      "__________________________________________________________________________________________________\n",
      "add_53 (Add)                    (None, 5, 5, 512)    0           activation_159[0][0]             \n",
      "                                                                 max_pooling2d_52[0][0]           \n",
      "__________________________________________________________________________________________________\n",
      "batch_normalization_160 (BatchN (None, 5, 5, 512)    2048        add_53[0][0]                     \n",
      "__________________________________________________________________________________________________\n",
      "activation_160 (Activation)     (None, 5, 5, 512)    0           batch_normalization_160[0][0]    \n",
      "__________________________________________________________________________________________________\n",
      "conv2d_53 (Conv2D)              (None, 5, 5, 1024)   525312      activation_160[0][0]             \n",
      "__________________________________________________________________________________________________\n",
      "batch_normalization_161 (BatchN (None, 5, 5, 1024)   4096        conv2d_53[0][0]                  \n",
      "__________________________________________________________________________________________________\n",
      "activation_161 (Activation)     (None, 5, 5, 1024)   0           batch_normalization_161[0][0]    \n",
      "__________________________________________________________________________________________________\n",
      "max_pooling2d_53 (MaxPooling2D) (None, 2, 2, 1024)   0           activation_161[0][0]             \n",
      "__________________________________________________________________________________________________\n",
      "flatten_8 (Flatten)             (None, 4096)         0           max_pooling2d_53[0][0]           \n",
      "__________________________________________________________________________________________________\n",
      "dense_16 (Dense)                (None, 1000)         4097000     flatten_8[0][0]                  \n",
      "__________________________________________________________________________________________________\n",
      "dense_17 (Dense)                (None, 3)            3003        dense_16[0][0]                   \n",
      "==================================================================================================\n",
      "Total params: 4,816,507\n",
      "Trainable params: 4,808,495\n",
      "Non-trainable params: 8,012\n",
      "__________________________________________________________________________________________________\n"
     ]
    }
   ],
   "source": [
    "Direction_Modified_MobileNet_Model = Direction_Model_Structure()\n",
    "Front_Modified_MobileNet_Model = Model_Structure()\n",
    "Back_Modified_MobileNet_Model = Model_Structure()\n",
    "Side_Modified_MobileNet_Model = Model_Structure()\n",
    "Direction_Modified_MobileNet_Model.summary()"
   ]
  },
  {
   "cell_type": "code",
   "execution_count": 28,
   "metadata": {},
   "outputs": [],
   "source": [
    "Direction_Modified_MobileNet_Model.load_weights(direction_name)\n",
    "Front_Modified_MobileNet_Model.load_weights(front_name)\n",
    "Back_Modified_MobileNet_Model.load_weights(side_name)\n",
    "Side_Modified_MobileNet_Model.load_weights(side_name)"
   ]
  },
  {
   "cell_type": "code",
   "execution_count": 29,
   "metadata": {
    "collapsed": true
   },
   "outputs": [
    {
     "data": {
      "text/plain": [
       "array([2, 2, 2, 2, 2, 2, 2, 2, 2, 2, 2, 2, 2, 2, 2, 2, 2, 2, 2, 2, 2, 2,\n",
       "       2, 2, 2, 2, 2, 2, 2, 2, 2, 2, 2, 2, 2, 2, 2, 2, 2, 2, 2, 2, 2, 2,\n",
       "       2, 2, 2, 2, 2, 2, 2, 2, 2, 2, 2, 2, 2, 2, 2, 2, 2, 2, 2, 2, 2, 2,\n",
       "       2, 2, 2, 2, 2, 2, 2, 2, 2, 2, 2, 2, 2, 2, 2, 2, 2, 2, 2, 2, 2, 2,\n",
       "       2, 2, 2, 2, 2, 2, 2, 2, 2, 2, 2, 2, 2, 2, 2, 2, 2, 2, 2, 2, 2, 2,\n",
       "       2, 2, 2, 2, 2, 2, 2, 2, 2, 2, 2, 2, 2, 2, 2, 2, 2, 2, 2, 2, 2, 2,\n",
       "       2, 2, 2, 2, 2, 2, 2, 2, 2, 2, 2, 2, 2, 2, 2, 2, 2, 2, 2, 2, 2, 2,\n",
       "       2, 2, 2, 2, 2, 2, 2, 2, 2, 2, 2, 2, 2, 2, 2, 2, 2, 2, 2, 2, 2, 2,\n",
       "       2, 2, 2, 2, 2, 2, 2, 2, 2, 2, 2, 2, 2, 2, 2, 2, 2, 2, 2, 2, 2, 2,\n",
       "       2, 2, 2, 2, 2, 2, 2, 2, 2, 2, 2, 2, 2, 2, 2, 2, 2, 2, 2, 2, 2, 2,\n",
       "       2, 2, 2, 2, 2, 2, 2, 2, 2, 2, 2, 2, 2, 2, 2, 2, 2, 2, 2, 2, 2, 2,\n",
       "       2, 2, 2, 2, 2, 2, 2, 2, 2, 2, 2, 2, 2, 2, 2, 2, 2, 2, 2, 2, 2, 2,\n",
       "       2, 2, 2, 2, 2, 2, 2, 2, 2, 2, 2, 2, 2, 2, 2, 2, 2, 2, 2, 2, 2, 2,\n",
       "       2, 2, 2, 2, 2, 2, 2, 2, 2, 2, 2, 2, 2, 2, 2, 2, 2, 2, 2, 2, 2, 2,\n",
       "       2, 2, 2, 2, 2, 2, 2, 2, 2, 2, 2, 2, 2, 2, 2, 2, 2, 2, 2, 2, 2, 2,\n",
       "       2, 2, 2, 2, 2, 2, 2, 2, 2, 2, 2, 2, 2, 2, 2, 2, 2, 2, 2, 2, 2, 2,\n",
       "       2, 2, 2, 2, 2, 2, 2, 2, 2, 2, 2, 2, 2, 2, 2, 2, 2, 2, 2, 2, 2, 2,\n",
       "       2, 2, 2, 2, 2, 2, 2, 2, 2, 2, 2, 2, 2, 2, 2, 2, 2, 2, 2, 2, 2, 2,\n",
       "       2, 2, 2, 2, 2, 2, 2, 2, 2, 2, 2, 2, 2, 2, 2, 2, 2, 2, 2, 2, 2, 2,\n",
       "       2, 2, 2, 2, 2, 2, 2, 2, 2, 2, 2, 2, 2, 2, 2, 2, 2, 2, 2, 2, 2, 2,\n",
       "       2, 2, 2, 2, 2, 2, 2, 2, 2, 2, 2, 2, 2, 2, 2, 2, 2, 2, 2, 2, 2, 2,\n",
       "       2, 2, 2, 2, 2, 2, 2, 2, 2, 2, 2, 2, 2, 2, 2, 2, 2, 2, 2, 2, 2, 2,\n",
       "       2, 2, 2, 2, 2, 2, 2, 2, 2, 2, 2, 2, 2, 2, 2, 2, 2, 2, 2, 2, 2, 2,\n",
       "       2, 2, 2, 2, 2, 2, 2, 2, 2, 2, 2, 2, 2, 2, 2, 2, 2, 2, 2, 2, 2, 2,\n",
       "       2, 2, 2, 2, 2, 2, 2, 2, 2, 2, 2, 2, 2, 2, 2, 2, 2, 2, 2, 2, 2, 2,\n",
       "       2, 2, 2, 2, 2, 2, 2, 2, 2, 2, 2, 2, 2, 2, 2, 2, 2, 2, 2, 2, 2, 2,\n",
       "       2, 2, 2, 2, 2, 2, 2, 2, 2, 2, 2, 2, 2, 2, 2, 2, 2, 2, 2, 2, 2, 2,\n",
       "       2, 2, 2, 2, 2, 2], dtype=int64)"
      ]
     },
     "execution_count": 29,
     "metadata": {},
     "output_type": "execute_result"
    }
   ],
   "source": [
    "output = Direction_Modified_MobileNet_Model.predict(X)\n",
    "print(np.argmax(output, axis = 1))\n",
    "print(y_DirectionNum)"
   ]
  },
  {
   "cell_type": "code",
   "execution_count": 4,
   "metadata": {},
   "outputs": [],
   "source": [
    "model_path = 'C:/Users/sdf80/Desktop/Colab_Model/Model/'"
   ]
  },
  {
   "cell_type": "code",
   "execution_count": 17,
   "metadata": {},
   "outputs": [],
   "source": [
    "direction_name=os.path.join(model_path, 'Colab_Direction_VGG19.h5')\n",
    "side_name=os.path.join(model_path, 'Colab_Side_VGG19.h5')\n",
    "front_name=os.path.join(model_path, 'Colab_Front_VGG19.h5')\n",
    "back_name=os.path.join(model_path, 'Colab_Back_VGG19.h5')"
   ]
  },
  {
   "cell_type": "code",
   "execution_count": 21,
   "metadata": {},
   "outputs": [],
   "source": [
    "direction_name=os.path.join(model_path, 'Colab_Direction_ResNet50.h5')\n",
    "side_name=os.path.join(model_path, 'Colab_Side_ResNet50.h5')\n",
    "front_name=os.path.join(model_path, 'Colab_Front_ResNet50.h5')\n",
    "back_name=os.path.join(model_path, 'Colab_Back_ResNet50.h5')"
   ]
  },
  {
   "cell_type": "code",
   "execution_count": 12,
   "metadata": {},
   "outputs": [],
   "source": [
    "direction_name=os.path.join(model_path, 'Colab_Direction_Inception.h5')\n",
    "side_name=os.path.join(model_path, 'Colab_Side_Inception.h5')\n",
    "front_name=os.path.join(model_path, 'Colab_Front_Inception.h5')\n",
    "back_name=os.path.join(model_path, 'Colab_Back_Inception.h5')"
   ]
  },
  {
   "cell_type": "code",
   "execution_count": 17,
   "metadata": {},
   "outputs": [],
   "source": [
    "direction_name=os.path.join(model_path, 'Colab_Direction_Modified_MobileNet.h5')\n",
    "side_name=os.path.join(model_path, 'Colab_Side_Modified_MobileNet.h5')\n",
    "front_name=os.path.join(model_path, 'Colab_Front_Modified_MobileNet_v2.h5')\n",
    "back_name=os.path.join(model_path, 'Colab_Back_Modified_MobileNet.h5')"
   ]
  },
  {
   "cell_type": "code",
   "execution_count": 18,
   "metadata": {},
   "outputs": [],
   "source": [
    "direction_model = models.load_model(direction_name)\n",
    "Side_model = models.load_model(side_name)\n",
    "Front_model = models.load_model(front_name)\n",
    "Back_model = models.load_model(back_name)"
   ]
  },
  {
   "cell_type": "code",
   "execution_count": null,
   "metadata": {},
   "outputs": [],
   "source": []
  },
  {
   "cell_type": "code",
   "execution_count": 19,
   "metadata": {},
   "outputs": [],
   "source": [
    "y_direction_predict, front_number, front_output, back_number, back_output, side_number, side_output = Fruit_Classifier(X, 1)"
   ]
  },
  {
   "cell_type": "code",
   "execution_count": 16,
   "metadata": {},
   "outputs": [
    {
     "data": {
      "text/plain": [
       "600"
      ]
     },
     "execution_count": 16,
     "metadata": {},
     "output_type": "execute_result"
    }
   ],
   "source": [
    "len(y_direction_predict)"
   ]
  },
  {
   "cell_type": "code",
   "execution_count": 18,
   "metadata": {},
   "outputs": [
    {
     "name": "stdout",
     "output_type": "stream",
     "text": [
      "front_number:  [200, 201, 202, 203, 204, 205, 206, 207, 208, 209, 210, 211, 212, 213, 214, 215, 216, 217, 218, 219, 220, 221, 222, 223, 224, 225, 226, 227, 228, 229, 230, 231, 232, 233, 234, 235, 238, 239, 240, 241, 242, 243, 244, 245, 246, 247, 248, 249, 250, 251, 252, 253, 254, 255, 256, 257, 258, 259, 260, 261, 262, 263, 264, 265, 266, 267, 268, 269, 270, 271, 272, 273, 274, 275, 276, 277, 279, 280, 283, 284, 285, 286, 287, 288, 290, 291, 292, 293, 295, 296, 298, 299, 300, 301, 302, 303, 304, 305, 307, 308, 309, 310, 311, 312, 313, 314, 315, 316, 317, 318, 319, 320, 321, 322, 323, 324, 325, 326, 329, 330, 331, 332, 333, 334, 335, 336, 337, 338, 339, 340, 341, 342, 343, 344, 345, 346, 347, 348, 349, 350, 351, 352, 353, 354, 355, 356, 357, 358, 359, 360, 361, 362, 363, 364, 365, 366, 367, 368, 369, 370, 371, 372, 373, 374, 375, 376, 377, 378, 379, 380, 381, 382, 383, 384, 385, 386, 387, 388, 389, 390, 391, 392, 393, 394, 395, 396, 397, 398, 399, 430]\n",
      "front_output:  [0, 0, 0, 0, 0, 0, 0, 0, 0, 0, 0, 0, 0, 0, 0, 0, 0, 0, 0, 0, 0, 0, 0, 0, 0, 0, 0, 0, 0, 0, 0, 0, 0, 0, 0, 0, 0, 0, 0, 0, 0, 0, 0, 0, 0, 0, 0, 0, 0, 0, 0, 0, 0, 0, 0, 0, 0, 0, 0, 0, 0, 0, 0, 0, 0, 0, 0, 0, 0, 0, 0, 0, 0, 0, 0, 0, 0, 0, 0, 0, 0, 0, 0, 0, 0, 0, 0, 0, 0, 0, 0, 0, 0, 1, 1, 1, 1, 1, 1, 1, 1, 1, 1, 1, 1, 1, 1, 1, 1, 1, 0, 1, 1, 1, 1, 1, 1, 1, 0, 1, 1, 1, 1, 1, 1, 1, 1, 1, 1, 1, 1, 1, 1, 1, 1, 1, 1, 1, 1, 1, 0, 0, 0, 0, 0, 1, 0, 0, 0, 0, 0, 0, 0, 0, 0, 0, 0, 0, 0, 0, 0, 1, 1, 1, 1, 1, 1, 1, 1, 0, 0, 1, 0, 0, 1, 1, 1, 1, 1, 0, 0, 0, 0, 1, 1, 1, 1, 1, 1, 0]\n",
      "----------------------------------------------------------------\n",
      "back_number:  [0, 1, 2, 3, 4, 5, 6, 7, 8, 9, 10, 11, 12, 13, 14, 15, 16, 17, 18, 19, 20, 21, 22, 23, 24, 25, 26, 27, 28, 29, 30, 31, 33, 34, 35, 36, 37, 38, 39, 40, 41, 42, 43, 44, 45, 46, 47, 48, 49, 50, 51, 52, 53, 54, 55, 56, 57, 58, 59, 60, 61, 62, 63, 64, 65, 66, 67, 68, 69, 70, 71, 72, 73, 74, 75, 76, 77, 78, 79, 80, 81, 82, 83, 84, 85, 86, 87, 88, 89, 90, 91, 92, 93, 95, 96, 97, 98, 99, 100, 101, 102, 103, 104, 105, 106, 107, 108, 109, 110, 111, 112, 113, 114, 115, 116, 117, 118, 119, 120, 121, 122, 123, 124, 125, 126, 127, 128, 129, 130, 131, 132, 133, 134, 135, 136, 137, 138, 139, 140, 141, 142, 143, 144, 145, 146, 147, 148, 150, 151, 152, 153, 154, 155, 156, 157, 158, 159, 160, 161, 162, 163, 164, 165, 166, 167, 168, 169, 170, 171, 172, 173, 174, 175, 176, 177, 178, 179, 180, 181, 182, 183, 184, 185, 186, 187, 188, 189, 190, 191, 192, 193, 194, 195, 196, 197, 198, 199, 278, 478]\n",
      "back_output:  [0, 0, 0, 0, 0, 0, 0, 0, 0, 0, 0, 0, 0, 0, 0, 0, 0, 0, 0, 0, 0, 0, 0, 0, 0, 0, 0, 0, 0, 0, 0, 0, 0, 0, 0, 0, 0, 0, 0, 0, 0, 0, 0, 0, 0, 0, 0, 0, 0, 0, 0, 0, 0, 0, 0, 0, 0, 0, 0, 0, 0, 0, 0, 0, 0, 0, 0, 0, 0, 0, 0, 0, 0, 0, 0, 0, 0, 0, 0, 0, 0, 0, 0, 0, 0, 0, 0, 0, 0, 0, 0, 0, 0, 0, 0, 0, 0, 0, 0, 0, 0, 0, 1, 0, 0, 0, 0, 1, 0, 0, 0, 1, 0, 0, 0, 0, 0, 0, 0, 0, 0, 0, 1, 0, 0, 0, 0, 0, 1, 0, 0, 0, 0, 0, 0, 1, 1, 0, 1, 0, 0, 0, 0, 0, 0, 1, 0, 0, 0, 1, 0, 0, 0, 0, 0, 0, 0, 0, 0, 0, 0, 0, 0, 0, 0, 0, 0, 1, 0, 0, 0, 1, 0, 0, 1, 0, 0, 0, 0, 0, 0, 0, 1, 0, 0, 0, 0, 0, 0, 0, 0, 0, 0, 0, 0, 0, 0, 0, 0]\n",
      "----------------------------------------------------------------\n",
      "side_number:  [32, 94, 149, 236, 237, 281, 282, 289, 294, 297, 306, 327, 328, 400, 401, 402, 403, 404, 405, 406, 407, 408, 409, 410, 411, 412, 413, 414, 415, 416, 417, 418, 419, 420, 421, 422, 423, 424, 425, 426, 427, 428, 429, 431, 432, 433, 434, 435, 436, 437, 438, 439, 440, 441, 442, 443, 444, 445, 446, 447, 448, 449, 450, 451, 452, 453, 454, 455, 456, 457, 458, 459, 460, 461, 462, 463, 464, 465, 466, 467, 468, 469, 470, 471, 472, 473, 474, 475, 476, 477, 479, 480, 481, 482, 483, 484, 485, 486, 487, 488, 489, 490, 491, 492, 493, 494, 495, 496, 497, 498, 499, 500, 501, 502, 503, 504, 505, 506, 507, 508, 509, 510, 511, 512, 513, 514, 515, 516, 517, 518, 519, 520, 521, 522, 523, 524, 525, 526, 527, 528, 529, 530, 531, 532, 533, 534, 535, 536, 537, 538, 539, 540, 541, 542, 543, 544, 545, 546, 547, 548, 549, 550, 551, 552, 553, 554, 555, 556, 557, 558, 559, 560, 561, 562, 563, 564, 565, 566, 567, 568, 569, 570, 571, 572, 573, 574, 575, 576, 577, 578, 579, 580, 581, 582, 583, 584, 585, 586, 587, 588, 589, 590, 591, 592, 593, 594, 595, 596, 597, 598, 599]\n",
      "side_output:  [0, 0, 0, 0, 0, 0, 0, 0, 0, 0, 0, 0, 0, 0, 0, 0, 0, 0, 0, 0, 0, 0, 0, 0, 0, 0, 0, 0, 0, 0, 0, 0, 0, 0, 0, 0, 0, 0, 0, 0, 0, 0, 0, 0, 0, 0, 0, 0, 0, 0, 0, 0, 0, 0, 0, 0, 0, 0, 0, 0, 0, 0, 0, 0, 0, 0, 0, 0, 0, 0, 0, 0, 0, 0, 0, 0, 0, 0, 0, 0, 0, 0, 0, 0, 0, 0, 0, 0, 0, 0, 0, 1, 0, 0, 0, 0, 0, 0, 0, 0, 0, 0, 0, 0, 0, 0, 0, 0, 0, 0, 0, 1, 1, 1, 0, 1, 1, 1, 1, 1, 1, 1, 1, 0, 0, 0, 1, 0, 1, 0, 1, 0, 1, 0, 0, 0, 0, 0, 0, 1, 1, 1, 0, 0, 1, 1, 1, 0, 1, 0, 1, 0, 0, 0, 1, 1, 0, 0, 0, 1, 0, 1, 1, 0, 0, 1, 0, 0, 0, 0, 0, 0, 0, 0, 1, 0, 0, 0, 1, 1, 0, 1, 1, 1, 0, 1, 1, 0, 0, 0, 1, 0, 0, 0, 0, 0, 0, 0, 0, 0, 0, 0, 0, 0, 1, 0, 0, 0, 0, 0, 0]\n",
      "----------------------------------------------------------------\n"
     ]
    }
   ],
   "source": [
    "print('front_number: ', front_number)\n",
    "print('front_output: ', front_output)\n",
    "print('----------------------------------------------------------------')\n",
    "print('back_number: ', back_number)\n",
    "print('back_output: ', back_output)\n",
    "print('----------------------------------------------------------------')\n",
    "print('side_number: ', side_number)\n",
    "print('side_output: ', side_output)\n",
    "print('----------------------------------------------------------------')"
   ]
  },
  {
   "cell_type": "code",
   "execution_count": 17,
   "metadata": {},
   "outputs": [],
   "source": [
    "# 하나만 넣으면 오류뜸.\n",
    "#state_output = Front_model.predict(X[1])"
   ]
  },
  {
   "cell_type": "code",
   "execution_count": 12,
   "metadata": {},
   "outputs": [],
   "source": [
    "list_num, list_output = output_sorting(front_number, front_output, back_number, back_output, side_number, side_output)"
   ]
  },
  {
   "cell_type": "code",
   "execution_count": 13,
   "metadata": {},
   "outputs": [],
   "source": [
    "import itertools\n",
    "from sklearn.metrics import confusion_matrix\n",
    "from sklearn.metrics import precision_score, recall_score, f1_score\n",
    "\n",
    "def plot_confusion_matrix(cm, classes,\n",
    "                          normalize=False,\n",
    "                          title='Confusion matrix',\n",
    "                          cmap=plt.cm.Blues):\n",
    "    \"\"\"\n",
    "    This function prints and plots the confusion matrix.\n",
    "    Normalization can be applied by setting `normalize=True`.\n",
    "    \"\"\"\n",
    "    plt.imshow(cm, interpolation='nearest', cmap=cmap)\n",
    "    plt.title(title)\n",
    "    plt.colorbar()\n",
    "    tick_marks = np.arange(len(classes))\n",
    "    plt.xticks(tick_marks, classes, rotation=45)\n",
    "    plt.yticks(tick_marks, classes)\n",
    "\n",
    "    if normalize:\n",
    "        cm = cm.astype('float') / cm.sum(axis=1)[:, np.newaxis]\n",
    "        print(\"Normalized confusion matrix\")\n",
    "    else:\n",
    "        print('Confusion matrix, without normalization')\n",
    "\n",
    "    print(cm)\n",
    "\n",
    "    thresh = cm.max() / 2.\n",
    "    for i, j in itertools.product(range(cm.shape[0]), range(cm.shape[1])):\n",
    "        plt.text(j, i, cm[i, j],\n",
    "            horizontalalignment=\"center\",\n",
    "            color=\"white\" if cm[i, j] > thresh else \"black\")\n",
    "\n",
    "    plt.tight_layout()\n",
    "    plt.ylabel('True label')\n",
    "    plt.xlabel('Predicted label')"
   ]
  },
  {
   "cell_type": "markdown",
   "metadata": {},
   "source": [
    "# InceptionV3"
   ]
  },
  {
   "cell_type": "code",
   "execution_count": 16,
   "metadata": {},
   "outputs": [
    {
     "name": "stdout",
     "output_type": "stream",
     "text": [
      "Confusion matrix, without normalization\n",
      "[[279  21]\n",
      " [ 22 278]]\n"
     ]
    },
    {
     "data": {
      "image/png": "[encoded data removed]",
      "text/plain": [
       "<Figure size 432x288 with 2 Axes>"
      ]
     },
     "metadata": {
      "needs_background": "light"
     },
     "output_type": "display_data"
    }
   ],
   "source": [
    "cm = confusion_matrix(y_true=y_StateNum, y_pred=list_output)\n",
    "plot_confusion_matrix(cm=cm, classes=['Bad','Normal'], title='Confusion Matrix')"
   ]
  },
  {
   "cell_type": "markdown",
   "metadata": {},
   "source": [
    "# ResNet50"
   ]
  },
  {
   "cell_type": "code",
   "execution_count": 25,
   "metadata": {},
   "outputs": [
    {
     "name": "stdout",
     "output_type": "stream",
     "text": [
      "Confusion matrix, without normalization\n",
      "[[270  30]\n",
      " [ 28 272]]\n"
     ]
    },
    {
     "data": {
      "image/png": "[encoded data removed]",
      "text/plain": [
       "<Figure size 432x288 with 2 Axes>"
      ]
     },
     "metadata": {
      "needs_background": "light"
     },
     "output_type": "display_data"
    }
   ],
   "source": [
    "cm = confusion_matrix(y_true=y_StateNum, y_pred=list_output)\n",
    "plot_confusion_matrix(cm=cm, classes=['Bad','Normal'], title='Confusion Matrix')"
   ]
  },
  {
   "cell_type": "markdown",
   "metadata": {},
   "source": [
    "# VGG19"
   ]
  },
  {
   "cell_type": "code",
   "execution_count": 37,
   "metadata": {},
   "outputs": [
    {
     "name": "stdout",
     "output_type": "stream",
     "text": [
      "Confusion matrix, without normalization\n",
      "[[289  11]\n",
      " [116 184]]\n"
     ]
    },
    {
     "data": {
      "image/png": "[encoded data removed]",
      "text/plain": [
       "<Figure size 432x288 with 2 Axes>"
      ]
     },
     "metadata": {
      "needs_background": "light"
     },
     "output_type": "display_data"
    }
   ],
   "source": [
    "cm = confusion_matrix(y_true=y_StateNum, y_pred=list_output)\n",
    "plot_confusion_matrix(cm=cm, classes=['Bad','Normal'], title='Confusion Matrix')"
   ]
  },
  {
   "cell_type": "code",
   "execution_count": 21,
   "metadata": {},
   "outputs": [
    {
     "name": "stdout",
     "output_type": "stream",
     "text": [
      "Confusion matrix, without normalization\n",
      "[[289  11]\n",
      " [116 184]]\n"
     ]
    },
    {
     "data": {
      "image/png": "[encoded data removed]",
      "text/plain": [
       "<Figure size 432x288 with 2 Axes>"
      ]
     },
     "metadata": {
      "needs_background": "light"
     },
     "output_type": "display_data"
    }
   ],
   "source": [
    "cm = confusion_matrix(y_true=y_StateNum, y_pred=list_output)\n",
    "plot_confusion_matrix(cm=cm, classes=['Bad','Normal'], title='Confusion Matrix')"
   ]
  },
  {
   "cell_type": "markdown",
   "metadata": {},
   "source": [
    "# Modified MobileNet"
   ]
  },
  {
   "cell_type": "code",
   "execution_count": 11,
   "metadata": {},
   "outputs": [
    {
     "name": "stdout",
     "output_type": "stream",
     "text": [
      "Confusion matrix, without normalization\n",
      "[[293   7]\n",
      " [106 194]]\n"
     ]
    },
    {
     "data": {
      "image/png": "[encoded data removed]",
      "text/plain": [
       "<Figure size 432x288 with 2 Axes>"
      ]
     },
     "metadata": {
      "needs_background": "light"
     },
     "output_type": "display_data"
    }
   ],
   "source": [
    "cm = confusion_matrix(y_true=y_StateNum, y_pred=list_output)\n",
    "plot_confusion_matrix(cm=cm, classes=['Bad','Normal'], title='Confusion Matrix')"
   ]
  },
  {
   "cell_type": "code",
   "execution_count": 31,
   "metadata": {},
   "outputs": [
    {
     "name": "stdout",
     "output_type": "stream",
     "text": [
      "Confusion matrix, without normalization\n",
      "[[283  17]\n",
      " [ 60 240]]\n"
     ]
    },
    {
     "data": {
      "image/png": "[encoded data removed]",
      "text/plain": [
       "<Figure size 432x288 with 2 Axes>"
      ]
     },
     "metadata": {
      "needs_background": "light"
     },
     "output_type": "display_data"
    }
   ],
   "source": [
    "cm = confusion_matrix(y_true=y_StateNum, y_pred=list_output)\n",
    "plot_confusion_matrix(cm=cm, classes=['Bad','Normal'], title='Confusion Matrix')"
   ]
  },
  {
   "cell_type": "code",
   "execution_count": 20,
   "metadata": {},
   "outputs": [
    {
     "name": "stdout",
     "output_type": "stream",
     "text": [
      "Confusion matrix, without normalization\n",
      "[[283  17]\n",
      " [ 60 240]]\n"
     ]
    },
    {
     "data": {
      "image/png": "[encoded data removed]",
      "text/plain": [
       "<Figure size 432x288 with 2 Axes>"
      ]
     },
     "metadata": {
      "needs_background": "light"
     },
     "output_type": "display_data"
    }
   ],
   "source": [
    "cm = confusion_matrix(y_true=y_StateNum, y_pred=list_output)\n",
    "plot_confusion_matrix(cm=cm, classes=['Bad','Normal'], title='Confusion Matrix')"
   ]
  },
  {
   "cell_type": "code",
   "execution_count": null,
   "metadata": {},
   "outputs": [],
   "source": []
  }
 ],
 "metadata": {
  "kernelspec": {
   "display_name": "Python 3",
   "language": "python",
   "name": "python3"
  },
  "language_info": {
   "codemirror_mode": {
    "name": "ipython",
    "version": 3
   },
   "file_extension": ".py",
   "mimetype": "text/x-python",
   "name": "python",
   "nbconvert_exporter": "python",
   "pygments_lexer": "ipython3",
   "version": "3.8.3"
  }
 },
 "nbformat": 4,
 "nbformat_minor": 4
}
