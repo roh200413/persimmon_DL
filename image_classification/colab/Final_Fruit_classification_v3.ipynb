{
 "cells": [
  {
   "cell_type": "code",
   "execution_count": 1,
   "metadata": {},
   "outputs": [],
   "source": [
    "import numpy as np # linear algebra \n",
    "import pandas as pd # data processing, CSV file I/O (e.g. pd.read_csv) \n",
    "import matplotlib.pyplot as plt \n",
    "from PIL import Image , ImageDraw \n",
    "from sklearn.preprocessing import * \n",
    "import time \n",
    "import ast \n",
    "import os \n",
    "import keras \n",
    "import tensorflow as tf \n",
    "from keras import models, layers \n",
    "from keras import Input \n",
    "from keras.models import Model, load_model \n",
    "from keras.preprocessing.image import ImageDataGenerator \n",
    "from keras import optimizers, initializers, regularizers, metrics \n",
    "from keras.callbacks import ModelCheckpoint, EarlyStopping \n",
    "from keras.layers import BatchNormalization, Conv2D, Activation , AveragePooling2D , Input ,Dropout \n",
    "from keras.layers import Dense, GlobalAveragePooling2D, MaxPooling2D, ZeroPadding2D, Add, Flatten \n",
    "from keras.models import Sequential \n",
    "from keras.metrics import top_k_categorical_accuracy \n",
    "from keras.callbacks import ModelCheckpoint, ReduceLROnPlateau, EarlyStopping \n",
    "#from keras.applications import ResNet50, vgg19,mobilenet_v2,InceptionV3 , InceptionResNetV2,DenseNet169 \n",
    "from tqdm import tqdm \n",
    "import cv2\n",
    "from sklearn.model_selection import train_test_split \n",
    "from keras.models import load_model"
   ]
  },
  {
   "cell_type": "code",
   "execution_count": 2,
   "metadata": {},
   "outputs": [
    {
     "name": "stdout",
     "output_type": "stream",
     "text": [
      "2.5.0\n",
      "2.5.0\n"
     ]
    }
   ],
   "source": [
    "import tensorflow as tf\n",
    "print(tf.__version__)\n",
    "\n",
    "import keras\n",
    "print(keras.__version__)"
   ]
  },
  {
   "cell_type": "code",
   "execution_count": 3,
   "metadata": {},
   "outputs": [],
   "source": [
    "# outputMode = 0 -> 모델 결과값 그대로 \n",
    "# outputMode = 1 -> 결과값에 argmax 후  \n",
    "def Fruit_Classifier(inputdata, outputMode = 0):\n",
    "    # 0 = Front = [1,0,0], 1 = Back = [0,1,0], 2 = Side = = [0,0,1]\n",
    "    direction_output = direction_model.predict(inputdata)\n",
    "    Y_direction_predict = []\n",
    "    for a in direction_output:\n",
    "        Y_direction_predict.append(np.argmax(a))\n",
    "    side_list = []\n",
    "    side_number = []\n",
    "    front_list = []\n",
    "    front_number = []\n",
    "    back_list = []\n",
    "    back_number = []\n",
    "    \n",
    "    for i, b in enumerate(Y_direction_predict):\n",
    "        if b == 0 :\n",
    "            front_list.append(inputdata[i].tolist())\n",
    "            front_number.append(i)\n",
    "        elif b == 1:\n",
    "            back_list.append(inputdata[i].tolist())\n",
    "            back_number.append(i)\n",
    "        else:\n",
    "            side_list.append(inputdata[i].tolist())\n",
    "            side_number.append(i)\n",
    "    side_list = np.array(side_list)  \n",
    "    front_list = np.array(front_list) \n",
    "    back_list = np.array(back_list) \n",
    "    front_output = []\n",
    "    back_output = []\n",
    "    side_output = []\n",
    "    \n",
    "    # Bad = 0 = [1,0], Normal = 1 = [0,1]\n",
    "    if len(front_list) > 0:\n",
    "        _front_output = Front_model.predict(front_list)\n",
    "        del front_list\n",
    "        if outputMode == 0:\n",
    "            front_output.append(_front_output.tolist())\n",
    "        else:\n",
    "            for i in _front_output:\n",
    "                front_output.append(np.argmax(i))\n",
    "    if len(back_list) > 0:\n",
    "        _back_output = Back_model.predict(back_list)\n",
    "        del back_list\n",
    "        if outputMode == 0: \n",
    "            back_output.append(_back_output.tolist())\n",
    "        else:\n",
    "            for i in _back_output:\n",
    "                back_output.append(np.argmax(i))\n",
    "    if len(side_list) > 0:\n",
    "        _side_output = Side_model.predict(side_list) \n",
    "        del side_list\n",
    "        if outputMode == 0:\n",
    "            side_output.append(_side_output.tolist())\n",
    "        else:\n",
    "            for i in _side_output:\n",
    "                side_output.append(np.argmax(i))\n",
    "    return Y_direction_predict, front_number, front_output, back_number, back_output, side_number, side_output\n",
    "\n",
    "# 확률값 반환 함수\n",
    "def function1(list1, list2):\n",
    "    count = 0\n",
    "    for i, j in zip(list1, list2):\n",
    "        if i == j:\n",
    "            count += 1\n",
    "    return count / len(list1)\n",
    "\n",
    "\n",
    "#  확률값 반환 + 리스트 비교 시 값이 다른 곳의 위치 반환\n",
    "def function2(list1, list2):\n",
    "    #if list1 != list2:\n",
    "    #  return \n",
    "    count = 0\n",
    "    othervalue_list = []\n",
    "    for i, list_set in enumerate(zip(list1, list2)):\n",
    "        if list_set[0] == list_set[1]:\n",
    "            count += 1\n",
    "        else:\n",
    "            othervalue_list.append(i)\n",
    "    output_per = count / len(list1)\n",
    "    return output_per, othervalue_list\n",
    "\n",
    "# 방향 구별 모델에서 다른 결과값의 리스트 제거\n",
    "def del_list(othervalue_list, del_list):\n",
    "    for i in othervalue_list:\n",
    "        del del_list[i]\n",
    "\n",
    "#결과값 정렬 알고리즘\n",
    "def output_sorting(front_number, front_output, back_number, back_output, side_number, side_output):\n",
    "    list_output = []\n",
    "    list_num = []\n",
    "    for i in front_output:\n",
    "        list_output.append(i)\n",
    "    for i in back_output:\n",
    "        list_output.append(i)\n",
    "    for i in side_output:\n",
    "        list_output.append(i)\n",
    "        \n",
    "    for i in front_number:\n",
    "        list_num.append(i)\n",
    "    for i in back_number:\n",
    "        list_num.append(i)\n",
    "    for i in side_number:\n",
    "        list_num.append(i)\n",
    "        \n",
    "    length = len(list_num)\n",
    "    for i in range(length):\n",
    "        length2 = length - i\n",
    "        for j in range(length2):\n",
    "            if list_num[i] > list_num[j + i]:\n",
    "                num = list_num[i]\n",
    "                output = list_output[i]\n",
    "                list_num[i] = list_num[j + i]\n",
    "                list_output[i] = list_output [ j + i]\n",
    "                list_num[j + i] = num\n",
    "                list_output [ j + i] = output\n",
    "    return list_num, list_output"
   ]
  },
  {
   "cell_type": "code",
   "execution_count": 4,
   "metadata": {},
   "outputs": [
    {
     "name": "stderr",
     "output_type": "stream",
     "text": [
      "100%|████████████████████████████████████████████████████████████████████████████████████████| 185/185 [00:00<?, ?it/s]\n",
      "100%|███████████████████████████████████████████████████████████████████████████████| 185/185 [00:00<00:00, 370.85it/s]"
     ]
    },
    {
     "name": "stdout",
     "output_type": "stream",
     "text": [
      "(185, 160, 160, 3) (185,)\n"
     ]
    },
    {
     "name": "stderr",
     "output_type": "stream",
     "text": [
      "\n"
     ]
    }
   ],
   "source": [
    "path = 'C:/Users/sdf80/Desktop/fruit_dataset_augmentation/v3/ValidationSet/'\n",
    "\n",
    "filename = os.listdir(path)\n",
    "datalist = pd.DataFrame(data=[], columns=['label','img'])\n",
    "\n",
    "label = []\n",
    "img = []\n",
    "\n",
    "for file in tqdm(filename):\n",
    "    split_label = file.split('.')\n",
    "    label.append(split_label[0]+ split_label[1])\n",
    "    img.append(file)\n",
    "    \n",
    "datalist['label'] = label\n",
    "datalist['img'] = img \n",
    "\n",
    "def preprocessing(path) :\n",
    "    X = []\n",
    "    y_FullName = []\n",
    "    y_StateNum = []\n",
    "    y_DirectionNum = []\n",
    "    class_label = []\n",
    "    class_num = 6\n",
    "    \n",
    "    for num in tqdm(range(len(datalist['img']))) :\n",
    "        img = cv2.imread(path+datalist['img'][num])\n",
    "        img = cv2.cvtColor(img,cv2.COLOR_BGR2RGB)\n",
    "        img = cv2.resize(img,(160,160))\n",
    "        \n",
    "        if datalist['label'][num] == 'SideBad': \n",
    "            X.append(img) \n",
    "            y_FullName.append('SideBad') \n",
    "            y_StateNum.append(0)\n",
    "            y_DirectionNum.append(2)\n",
    "        elif datalist['label'][num] == 'SideNormal':\n",
    "            X.append(img) \n",
    "            y_FullName.append('SideNormal')\n",
    "            y_StateNum.append(1)\n",
    "            y_DirectionNum.append(2)\n",
    "        elif datalist['label'][num] == 'FrontBad': \n",
    "            X.append(img) \n",
    "            y_FullName.append('FrontBad')\n",
    "            y_StateNum.append(0)\n",
    "            y_DirectionNum.append(0)\n",
    "        elif datalist['label'][num] == 'FrontNormal': \n",
    "            X.append(img) \n",
    "            y_FullName.append('FrontNormal')\n",
    "            y_StateNum.append(1)\n",
    "            y_DirectionNum.append(0)\n",
    "        elif datalist['label'][num] == 'BackBad': \n",
    "            X.append(img) \n",
    "            y_FullName.append('BackBad')\n",
    "            y_StateNum.append(0)\n",
    "            y_DirectionNum.append(1)\n",
    "        elif datalist['label'][num] == 'BackNormal': \n",
    "            X.append(img) \n",
    "            y_FullName.append('BackNormal')\n",
    "            y_StateNum.append(1)\n",
    "            y_DirectionNum.append(1)\n",
    "        else:\n",
    "            print('알림')\n",
    "            \n",
    "    X = np.array(X) \n",
    "    y_FullName = np.array(y_FullName) \n",
    "    y_StateNum = np.array(y_StateNum) \n",
    "    y_DirectionNum = np.array(y_DirectionNum) \n",
    "    \n",
    "    #y_FullName = np.array([[i] for i in y_FullName]) \n",
    "    #y_StateNum = np.array([[i] for i in y_StateNum]) \n",
    "    #y_DirectionNum = np.array([[i] for i in y_DirectionNum]) \n",
    "    \n",
    "    #enc = OneHotEncoder(categories='auto') \n",
    "    #enc.fit(y_StateNum) \n",
    "    #tmpy = enc.transform(y_StateNum).toarray() \n",
    "\n",
    "    #del Y #RAM메모리 절약을 위해 사용하지 않는 변수 삭제\n",
    "    return X, y_FullName, y_StateNum ,y_DirectionNum, class_label , class_num\n",
    "\n",
    "\n",
    "X, y_FullName, y_StateNum, y_DirectionNum, class_label, class_num = preprocessing(path)\n",
    "X = X/ 255\n",
    "#파일이름이 담긴 배열 \n",
    "\n",
    "print(X.shape, y_FullName.shape)"
   ]
  },
  {
   "cell_type": "code",
   "execution_count": 5,
   "metadata": {},
   "outputs": [],
   "source": [
    "model_path = 'C:/Users/sdf80/Desktop/Colab_Model/Model_v3/'"
   ]
  },
  {
   "cell_type": "code",
   "execution_count": 11,
   "metadata": {},
   "outputs": [],
   "source": [
    "direction_name=os.path.join(model_path, 'Colab_Direction_VGG19.h5')\n",
    "side_name=os.path.join(model_path, 'Colab_Side_VGG19.h5')\n",
    "front_name=os.path.join(model_path, 'Colab_Front_VGG19.h5')\n",
    "back_name=os.path.join(model_path, 'Colab_Back_VGG19.h5')"
   ]
  },
  {
   "cell_type": "code",
   "execution_count": 17,
   "metadata": {},
   "outputs": [],
   "source": [
    "direction_name=os.path.join(model_path, 'Colab_Direction_ResNet50.h5')\n",
    "side_name=os.path.join(model_path, 'Colab_Side_ResNet50.h5')\n",
    "front_name=os.path.join(model_path, 'Colab_Front_ResNet50.h5')\n",
    "back_name=os.path.join(model_path, 'Colab_Back_ResNet50.h5')"
   ]
  },
  {
   "cell_type": "code",
   "execution_count": 6,
   "metadata": {},
   "outputs": [],
   "source": [
    "direction_name=os.path.join(model_path, 'Colab_Direction_Inception.h5')\n",
    "side_name=os.path.join(model_path, 'Colab_Side_Inception.h5')\n",
    "front_name=os.path.join(model_path, 'Colab_Front_Inception.h5')\n",
    "back_name=os.path.join(model_path, 'Colab_Back_InceptionV3.h5')"
   ]
  },
  {
   "cell_type": "code",
   "execution_count": 35,
   "metadata": {},
   "outputs": [],
   "source": [
    "direction_name=os.path.join(model_path, 'Colab_Direction_Modified_MobileNet.h5')\n",
    "side_name=os.path.join(model_path, 'Colab_Side_Modified_MobileNet.h5')\n",
    "front_name=os.path.join(model_path, 'Colab_Front_Modified_MobileNet.h5')\n",
    "back_name=os.path.join(model_path, 'Colab_Back_Modified_MobileNet.h5')"
   ]
  },
  {
   "cell_type": "code",
   "execution_count": 7,
   "metadata": {},
   "outputs": [],
   "source": [
    "direction_model = models.load_model(direction_name)\n",
    "Side_model = models.load_model(side_name)\n",
    "Front_model = models.load_model(front_name)\n",
    "Back_model = models.load_model(back_name)"
   ]
  },
  {
   "cell_type": "code",
   "execution_count": null,
   "metadata": {},
   "outputs": [],
   "source": []
  },
  {
   "cell_type": "code",
   "execution_count": 8,
   "metadata": {},
   "outputs": [],
   "source": [
    "y_direction_predict, front_number, front_output, back_number, back_output, side_number, side_output = Fruit_Classifier(X, 1)"
   ]
  },
  {
   "cell_type": "code",
   "execution_count": 28,
   "metadata": {},
   "outputs": [
    {
     "data": {
      "text/plain": [
       "185"
      ]
     },
     "execution_count": 28,
     "metadata": {},
     "output_type": "execute_result"
    }
   ],
   "source": [
    "len(y_direction_predict)"
   ]
  },
  {
   "cell_type": "code",
   "execution_count": 21,
   "metadata": {},
   "outputs": [
    {
     "name": "stdout",
     "output_type": "stream",
     "text": [
      "front_number:  [77, 78, 79, 80, 81, 82, 83, 84, 85, 86, 87, 88, 89, 90, 91, 92, 93, 94, 95, 96, 97, 98, 99, 100]\n",
      "front_output:  [0, 0, 0, 0, 0, 0, 0, 0, 0, 0, 0, 0, 0, 0, 0, 0, 0, 0, 0, 1, 0, 1, 1, 1]\n",
      "----------------------------------------------------------------\n",
      "back_number:  [0, 1, 2, 3, 4, 5, 6, 8, 9, 10, 11, 12, 13, 14, 15, 16, 17, 18, 19, 20, 21, 22, 23, 24, 25, 26, 27, 28, 29, 30, 31, 32, 33, 34, 35, 36, 37, 38, 39, 40, 41, 42, 43, 44, 45, 46, 47, 48, 49, 50, 51, 52, 53, 54, 55, 56, 57, 58, 59, 60, 61, 62, 63, 64, 65, 66, 67, 68, 69, 70, 71, 72, 73, 74, 75, 76, 114]\n",
      "back_output:  [0, 0, 1, 0, 0, 0, 1, 0, 0, 0, 0, 0, 0, 0, 0, 0, 0, 0, 0, 0, 0, 0, 0, 0, 0, 0, 0, 0, 0, 0, 0, 0, 0, 0, 0, 0, 0, 0, 0, 0, 0, 0, 0, 0, 0, 0, 0, 0, 0, 0, 0, 0, 0, 0, 0, 0, 0, 0, 0, 0, 1, 0, 1, 0, 1, 1, 1, 0, 0, 0, 1, 0, 1, 1, 1, 1, 0]\n",
      "----------------------------------------------------------------\n",
      "side_number:  [7, 101, 102, 103, 104, 105, 106, 107, 108, 109, 110, 111, 112, 113, 115, 116, 117, 118, 119, 120, 121, 122, 123, 124, 125, 126, 127, 128, 129, 130, 131, 132, 133, 134, 135, 136, 137, 138, 139, 140, 141, 142, 143, 144, 145, 146, 147, 148, 149, 150, 151, 152, 153, 154, 155, 156, 157, 158, 159, 160, 161, 162, 163, 164, 165, 166, 167, 168, 169, 170, 171, 172, 173, 174, 175, 176, 177, 178, 179, 180, 181, 182, 183, 184]\n",
      "side_output:  [0, 0, 0, 0, 0, 0, 0, 0, 0, 0, 0, 0, 0, 0, 0, 0, 0, 0, 1, 0, 0, 0, 0, 0, 0, 0, 0, 0, 0, 0, 0, 1, 0, 0, 0, 0, 0, 0, 0, 0, 0, 0, 0, 0, 0, 1, 0, 0, 1, 0, 0, 0, 0, 0, 0, 0, 0, 0, 0, 0, 0, 0, 0, 0, 1, 0, 0, 0, 1, 1, 0, 0, 1, 0, 1, 1, 1, 1, 0, 1, 1, 0, 0, 0]\n",
      "----------------------------------------------------------------\n"
     ]
    }
   ],
   "source": [
    "print('front_number: ', front_number)\n",
    "print('front_output: ', front_output)\n",
    "print('----------------------------------------------------------------')\n",
    "print('back_number: ', back_number)\n",
    "print('back_output: ', back_output)\n",
    "print('----------------------------------------------------------------')\n",
    "print('side_number: ', side_number)\n",
    "print('side_output: ', side_output)\n",
    "print('----------------------------------------------------------------')"
   ]
  },
  {
   "cell_type": "code",
   "execution_count": 22,
   "metadata": {},
   "outputs": [],
   "source": [
    "# 하나만 넣으면 오류뜸.\n",
    "#state_output = Front_model.predict(X[1])"
   ]
  },
  {
   "cell_type": "code",
   "execution_count": 9,
   "metadata": {},
   "outputs": [],
   "source": [
    "list_num, list_output = output_sorting(front_number, front_output, back_number, back_output, side_number, side_output)"
   ]
  },
  {
   "cell_type": "code",
   "execution_count": 10,
   "metadata": {},
   "outputs": [],
   "source": [
    "import itertools\n",
    "from sklearn.metrics import confusion_matrix\n",
    "from sklearn.metrics import precision_score, recall_score, f1_score\n",
    "\n",
    "def plot_confusion_matrix(cm, classes,\n",
    "                          normalize=False,\n",
    "                          title='Confusion matrix',\n",
    "                          cmap=plt.cm.Blues):\n",
    "    \"\"\"\n",
    "    This function prints and plots the confusion matrix.\n",
    "    Normalization can be applied by setting `normalize=True`.\n",
    "    \"\"\"\n",
    "    plt.imshow(cm, interpolation='nearest', cmap=cmap)\n",
    "    plt.title(title)\n",
    "    plt.colorbar()\n",
    "    tick_marks = np.arange(len(classes))\n",
    "    plt.xticks(tick_marks, classes, rotation=45)\n",
    "    plt.yticks(tick_marks, classes)\n",
    "\n",
    "    if normalize:\n",
    "        cm = cm.astype('float') / cm.sum(axis=1)[:, np.newaxis]\n",
    "        print(\"Normalized confusion matrix\")\n",
    "    else:\n",
    "        print('Confusion matrix, without normalization')\n",
    "\n",
    "    print(cm)\n",
    "\n",
    "    thresh = cm.max() / 2.\n",
    "    for i, j in itertools.product(range(cm.shape[0]), range(cm.shape[1])):\n",
    "        plt.text(j, i, cm[i, j],\n",
    "            horizontalalignment=\"center\",\n",
    "            color=\"white\" if cm[i, j] > thresh else \"black\")\n",
    "\n",
    "    plt.tight_layout()\n",
    "    plt.ylabel('True label')\n",
    "    plt.xlabel('Predicted label')"
   ]
  },
  {
   "cell_type": "markdown",
   "metadata": {},
   "source": [
    "# InceptionV3"
   ]
  },
  {
   "cell_type": "code",
   "execution_count": 15,
   "metadata": {},
   "outputs": [
    {
     "name": "stdout",
     "output_type": "stream",
     "text": [
      "Confusion matrix, without normalization\n",
      "[[134   9]\n",
      " [ 19  23]]\n"
     ]
    },
    {
     "data": {
      "image/png": "[encoded data removed]",
      "text/plain": [
       "<Figure size 432x288 with 2 Axes>"
      ]
     },
     "metadata": {
      "needs_background": "light"
     },
     "output_type": "display_data"
    }
   ],
   "source": [
    "cm = confusion_matrix(y_true=y_StateNum, y_pred=list_output)\n",
    "plot_confusion_matrix(cm=cm, classes=['Bad','Normal'], title='Confusion Matrix')"
   ]
  },
  {
   "cell_type": "code",
   "execution_count": 11,
   "metadata": {},
   "outputs": [
    {
     "name": "stdout",
     "output_type": "stream",
     "text": [
      "Confusion matrix, without normalization\n",
      "[[133  10]\n",
      " [ 14  28]]\n"
     ]
    },
    {
     "data": {
      "image/png": "[encoded data removed]",
      "text/plain": [
       "<Figure size 432x288 with 2 Axes>"
      ]
     },
     "metadata": {
      "needs_background": "light"
     },
     "output_type": "display_data"
    }
   ],
   "source": [
    "cm = confusion_matrix(y_true=y_StateNum, y_pred=list_output)\n",
    "plot_confusion_matrix(cm=cm, classes=['Bad','Normal'], title='Confusion Matrix')"
   ]
  },
  {
   "cell_type": "markdown",
   "metadata": {},
   "source": [
    "# ResNet50"
   ]
  },
  {
   "cell_type": "code",
   "execution_count": 25,
   "metadata": {},
   "outputs": [
    {
     "name": "stdout",
     "output_type": "stream",
     "text": [
      "Confusion matrix, without normalization\n",
      "[[137   6]\n",
      " [ 18  24]]\n"
     ]
    },
    {
     "data": {
      "image/png": "[encoded data removed]",
      "text/plain": [
       "<Figure size 432x288 with 2 Axes>"
      ]
     },
     "metadata": {
      "needs_background": "light"
     },
     "output_type": "display_data"
    }
   ],
   "source": [
    "cm = confusion_matrix(y_true=y_StateNum, y_pred=list_output)\n",
    "plot_confusion_matrix(cm=cm, classes=['Bad','Normal'], title='Confusion Matrix')"
   ]
  },
  {
   "cell_type": "markdown",
   "metadata": {},
   "source": [
    "# VGG19"
   ]
  },
  {
   "cell_type": "code",
   "execution_count": 16,
   "metadata": {},
   "outputs": [
    {
     "name": "stdout",
     "output_type": "stream",
     "text": [
      "Confusion matrix, without normalization\n",
      "[[137   6]\n",
      " [ 30  12]]\n"
     ]
    },
    {
     "data": {
      "image/png": "[encoded data removed]",
      "text/plain": [
       "<Figure size 432x288 with 2 Axes>"
      ]
     },
     "metadata": {
      "needs_background": "light"
     },
     "output_type": "display_data"
    }
   ],
   "source": [
    "cm = confusion_matrix(y_true=y_StateNum, y_pred=list_output)\n",
    "plot_confusion_matrix(cm=cm, classes=['Bad','Normal'], title='Confusion Matrix')"
   ]
  },
  {
   "cell_type": "markdown",
   "metadata": {},
   "source": [
    "# Modified MobileNet"
   ]
  },
  {
   "cell_type": "code",
   "execution_count": 39,
   "metadata": {},
   "outputs": [
    {
     "name": "stdout",
     "output_type": "stream",
     "text": [
      "Confusion matrix, without normalization\n",
      "[[137   6]\n",
      " [ 20  22]]\n"
     ]
    },
    {
     "data": {
      "image/png": "[encoded data removed]",
      "text/plain": [
       "<Figure size 432x288 with 2 Axes>"
      ]
     },
     "metadata": {
      "needs_background": "light"
     },
     "output_type": "display_data"
    }
   ],
   "source": [
    "cm = confusion_matrix(y_true=y_StateNum, y_pred=list_output)\n",
    "plot_confusion_matrix(cm=cm, classes=['Bad','Normal'], title='Confusion Matrix')"
   ]
  },
  {
   "cell_type": "code",
   "execution_count": null,
   "metadata": {},
   "outputs": [],
   "source": []
  }
 ],
 "metadata": {
  "kernelspec": {
   "display_name": "Python 3",
   "language": "python",
   "name": "python3"
  },
  "language_info": {
   "codemirror_mode": {
    "name": "ipython",
    "version": 3
   },
   "file_extension": ".py",
   "mimetype": "text/x-python",
   "name": "python",
   "nbconvert_exporter": "python",
   "pygments_lexer": "ipython3",
   "version": "3.8.3"
  }
 },
 "nbformat": 4,
 "nbformat_minor": 4
}
