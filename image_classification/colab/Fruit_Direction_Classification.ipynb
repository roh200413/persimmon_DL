{
 "cells": [
  {
   "cell_type": "code",
   "execution_count": 27,
   "metadata": {},
   "outputs": [],
   "source": [
    "import numpy as np # linear algebra \n",
    "import pandas as pd # data processing, CSV file I/O (e.g. pd.read_csv) \n",
    "import matplotlib.pyplot as plt \n",
    "from PIL import Image , ImageDraw \n",
    "from sklearn.preprocessing import * \n",
    "import time \n",
    "import ast \n",
    "import os \n",
    "import keras \n",
    "import tensorflow as tf \n",
    "from keras import models, layers \n",
    "from keras import Input \n",
    "from keras.models import Model, load_model \n",
    "from keras.preprocessing.image import ImageDataGenerator \n",
    "from keras import optimizers, initializers, regularizers, metrics \n",
    "from keras.callbacks import ModelCheckpoint, EarlyStopping \n",
    "from keras.layers import BatchNormalization, Conv2D, Activation , AveragePooling2D , Input ,Dropout \n",
    "from keras.layers import Dense, GlobalAveragePooling2D, MaxPooling2D, ZeroPadding2D, Add, Flatten \n",
    "from keras.models import Sequential \n",
    "from keras.metrics import top_k_categorical_accuracy \n",
    "from keras.callbacks import ModelCheckpoint, ReduceLROnPlateau, EarlyStopping \n",
    "from keras.applications import ResNet50, vgg19,mobilenet_v2,InceptionV3 , InceptionResNetV2,DenseNet169 \n",
    "from tqdm import tqdm \n",
    "import cv2"
   ]
  },
  {
   "cell_type": "code",
   "execution_count": 28,
   "metadata": {},
   "outputs": [
    {
     "name": "stderr",
     "output_type": "stream",
     "text": [
      "100%|██████████████████████████████████████████████████████████████████████████| 1121/1121 [00:00<00:00, 561947.51it/s]\n"
     ]
    },
    {
     "data": {
      "text/html": [
       "<div>\n",
       "<style scoped>\n",
       "    .dataframe tbody tr th:only-of-type {\n",
       "        vertical-align: middle;\n",
       "    }\n",
       "\n",
       "    .dataframe tbody tr th {\n",
       "        vertical-align: top;\n",
       "    }\n",
       "\n",
       "    .dataframe thead th {\n",
       "        text-align: right;\n",
       "    }\n",
       "</style>\n",
       "<table border=\"1\" class=\"dataframe\">\n",
       "  <thead>\n",
       "    <tr style=\"text-align: right;\">\n",
       "      <th></th>\n",
       "      <th>label</th>\n",
       "      <th>img</th>\n",
       "    </tr>\n",
       "  </thead>\n",
       "  <tbody>\n",
       "    <tr>\n",
       "      <th>0</th>\n",
       "      <td>Back</td>\n",
       "      <td>Back.0.jpg</td>\n",
       "    </tr>\n",
       "    <tr>\n",
       "      <th>1</th>\n",
       "      <td>Back</td>\n",
       "      <td>Back.1.jpg</td>\n",
       "    </tr>\n",
       "    <tr>\n",
       "      <th>2</th>\n",
       "      <td>Back</td>\n",
       "      <td>Back.10.jpg</td>\n",
       "    </tr>\n",
       "    <tr>\n",
       "      <th>3</th>\n",
       "      <td>Back</td>\n",
       "      <td>Back.100.jpg</td>\n",
       "    </tr>\n",
       "    <tr>\n",
       "      <th>4</th>\n",
       "      <td>Back</td>\n",
       "      <td>Back.101.jpg</td>\n",
       "    </tr>\n",
       "  </tbody>\n",
       "</table>\n",
       "</div>"
      ],
      "text/plain": [
       "  label           img\n",
       "0  Back    Back.0.jpg\n",
       "1  Back    Back.1.jpg\n",
       "2  Back   Back.10.jpg\n",
       "3  Back  Back.100.jpg\n",
       "4  Back  Back.101.jpg"
      ]
     },
     "execution_count": 28,
     "metadata": {},
     "output_type": "execute_result"
    }
   ],
   "source": [
    "path ='C:/Users/sdf80/Desktop/fruit_dataset2/Direction/'\n",
    "filename = os.listdir(path)\n",
    "datalist = pd.DataFrame(data=[], columns=['label','img'])\n",
    "\n",
    "label = []\n",
    "img = []\n",
    "\n",
    "for file in tqdm(filename):\n",
    "    label.append(file.split('.')[0])\n",
    "    img.append(file)\n",
    "    \n",
    "datalist['label'] = label\n",
    "datalist['img'] = img\n",
    "\n",
    "datalist.head()"
   ]
  },
  {
   "cell_type": "code",
   "execution_count": 29,
   "metadata": {},
   "outputs": [
    {
     "name": "stderr",
     "output_type": "stream",
     "text": [
      "No handles with labels found to put in legend.\n"
     ]
    },
    {
     "data": {
      "text/plain": [
       "<matplotlib.legend.Legend at 0x25b00138a30>"
      ]
     },
     "execution_count": 29,
     "metadata": {},
     "output_type": "execute_result"
    },
    {
     "data": {
      "image/png": "[encoded data removed]",
      "text/plain": [
       "<Figure size 432x288 with 1 Axes>"
      ]
     },
     "metadata": {
      "needs_background": "light"
     },
     "output_type": "display_data"
    }
   ],
   "source": [
    "FrontNum = 0\n",
    "BackNum = 0\n",
    "SideNum = 0\n",
    "\n",
    "for i in datalist['label']:\n",
    "    if i == 'Front':\n",
    "        FrontNum += 1\n",
    "    if i == 'Back':\n",
    "        BackNum += 1\n",
    "    if i == 'Side':\n",
    "        SideNum += 1\n",
    "        \n",
    "plt.bar(['Front','Back', 'Side'], [FrontNum, BackNum, SideNum])\n",
    "plt.legend()"
   ]
  },
  {
   "cell_type": "code",
   "execution_count": 30,
   "metadata": {},
   "outputs": [],
   "source": [
    "def preprocessing(path) :\n",
    "    X = []\n",
    "    Y = []\n",
    "    class_label = []\n",
    "    class_num = 3\n",
    "    \n",
    "    for num in tqdm(range(len(datalist['img']))) :\n",
    "        img = cv2.imread(path+datalist['img'][num])\n",
    "        img = cv2.cvtColor(img,cv2.COLOR_BGR2RGB)\n",
    "        img = cv2.resize(img,(160,160))\n",
    "        \n",
    "        if datalist['label'][num] == 'Front': \n",
    "            X.append(img) \n",
    "            Y.append(0) \n",
    "        elif  datalist['label'][num] == 'Back': \n",
    "            X.append(img) \n",
    "            Y.append(1)\n",
    "        else:\n",
    "            X.append(img) \n",
    "            Y.append(2)\n",
    "\n",
    "    tmpx = np.array(X) \n",
    "    print(Y)\n",
    "    Y = np.array([[i] for i in Y]) \n",
    "    enc = OneHotEncoder(categories='auto') \n",
    "    enc.fit(Y) \n",
    "    tmpy = enc.transform(Y).toarray() \n",
    "\n",
    "    del X \n",
    "    del Y #RAM메모리 절약을 위해 사용하지 않는 변수 삭제\n",
    "    return tmpx , tmpy , class_label , class_num"
   ]
  },
  {
   "cell_type": "code",
   "execution_count": 31,
   "metadata": {},
   "outputs": [
    {
     "name": "stderr",
     "output_type": "stream",
     "text": [
      "100%|█████████████████████████████████████████████████████████████████████████████| 1121/1121 [00:02<00:00, 460.75it/s]"
     ]
    },
    {
     "name": "stdout",
     "output_type": "stream",
     "text": [
      "[1, 1, 1, 1, 1, 1, 1, 1, 1, 1, 1, 1, 1, 1, 1, 1, 1, 1, 1, 1, 1, 1, 1, 1, 1, 1, 1, 1, 1, 1, 1, 1, 1, 1, 1, 1, 1, 1, 1, 1, 1, 1, 1, 1, 1, 1, 1, 1, 1, 1, 1, 1, 1, 1, 1, 1, 1, 1, 1, 1, 1, 1, 1, 1, 1, 1, 1, 1, 1, 1, 1, 1, 1, 1, 1, 1, 1, 1, 1, 1, 1, 1, 1, 1, 1, 1, 1, 1, 1, 1, 1, 1, 1, 1, 1, 1, 1, 1, 1, 1, 1, 1, 1, 1, 1, 1, 1, 1, 1, 1, 1, 1, 1, 1, 1, 1, 1, 1, 1, 1, 1, 1, 1, 1, 1, 1, 1, 1, 1, 1, 1, 1, 1, 1, 1, 1, 1, 1, 1, 1, 1, 1, 1, 1, 1, 0, 0, 0, 0, 0, 0, 0, 0, 0, 0, 0, 0, 0, 0, 0, 0, 0, 0, 0, 0, 0, 0, 0, 0, 0, 0, 0, 0, 0, 0, 0, 0, 0, 0, 0, 0, 0, 0, 0, 0, 0, 0, 0, 0, 0, 0, 0, 0, 0, 0, 0, 0, 0, 0, 0, 0, 0, 0, 0, 0, 0, 0, 0, 0, 0, 0, 0, 0, 0, 0, 0, 0, 0, 0, 0, 0, 0, 0, 0, 0, 0, 0, 0, 0, 0, 0, 0, 0, 0, 0, 0, 0, 0, 0, 0, 0, 0, 0, 0, 0, 0, 0, 0, 0, 0, 0, 0, 0, 0, 0, 0, 0, 0, 0, 0, 0, 0, 0, 0, 0, 0, 0, 0, 0, 0, 0, 0, 0, 0, 0, 0, 0, 0, 0, 0, 0, 0, 0, 0, 0, 0, 0, 0, 0, 0, 0, 0, 0, 0, 0, 0, 0, 0, 0, 0, 0, 0, 0, 0, 0, 0, 0, 0, 0, 0, 0, 0, 0, 0, 0, 0, 0, 0, 0, 0, 0, 0, 0, 0, 0, 0, 0, 0, 0, 0, 0, 0, 0, 0, 0, 0, 0, 0, 0, 0, 0, 0, 0, 0, 0, 0, 0, 0, 0, 0, 0, 0, 0, 0, 0, 0, 0, 0, 0, 0, 0, 0, 0, 0, 0, 0, 0, 0, 0, 0, 0, 0, 0, 0, 0, 0, 0, 0, 0, 0, 0, 0, 0, 0, 0, 0, 0, 0, 0, 0, 0, 0, 0, 0, 0, 0, 0, 0, 0, 0, 0, 0, 0, 0, 0, 0, 0, 0, 0, 0, 0, 0, 0, 0, 0, 0, 0, 0, 0, 0, 0, 0, 0, 0, 0, 0, 0, 0, 0, 0, 0, 0, 0, 0, 0, 0, 0, 0, 0, 0, 0, 0, 0, 0, 0, 0, 0, 0, 0, 0, 0, 0, 0, 0, 0, 0, 0, 0, 0, 0, 0, 0, 0, 0, 0, 0, 0, 0, 0, 0, 0, 0, 0, 0, 0, 0, 0, 0, 0, 0, 0, 0, 0, 0, 0, 0, 0, 0, 0, 0, 0, 0, 0, 0, 0, 0, 0, 0, 0, 0, 0, 0, 0, 0, 0, 0, 0, 0, 0, 0, 0, 0, 0, 0, 0, 0, 0, 0, 0, 0, 0, 0, 0, 0, 0, 0, 0, 0, 0, 0, 0, 0, 0, 0, 0, 0, 0, 0, 0, 0, 0, 0, 0, 0, 0, 0, 0, 0, 0, 0, 0, 0, 0, 0, 0, 0, 0, 0, 0, 0, 0, 0, 0, 0, 0, 0, 0, 0, 0, 0, 0, 0, 0, 0, 0, 0, 2, 2, 2, 2, 2, 2, 2, 2, 2, 2, 2, 2, 2, 2, 2, 2, 2, 2, 2, 2, 2, 2, 2, 2, 2, 2, 2, 2, 2, 2, 2, 2, 2, 2, 2, 2, 2, 2, 2, 2, 2, 2, 2, 2, 2, 2, 2, 2, 2, 2, 2, 2, 2, 2, 2, 2, 2, 2, 2, 2, 2, 2, 2, 2, 2, 2, 2, 2, 2, 2, 2, 2, 2, 2, 2, 2, 2, 2, 2, 2, 2, 2, 2, 2, 2, 2, 2, 2, 2, 2, 2, 2, 2, 2, 2, 2, 2, 2, 2, 2, 2, 2, 2, 2, 2, 2, 2, 2, 2, 2, 2, 2, 2, 2, 2, 2, 2, 2, 2, 2, 2, 2, 2, 2, 2, 2, 2, 2, 2, 2, 2, 2, 2, 2, 2, 2, 2, 2, 2, 2, 2, 2, 2, 2, 2, 2, 2, 2, 2, 2, 2, 2, 2, 2, 2, 2, 2, 2, 2, 2, 2, 2, 2, 2, 2, 2, 2, 2, 2, 2, 2, 2, 2, 2, 2, 2, 2, 2, 2, 2, 2, 2, 2, 2, 2, 2, 2, 2, 2, 2, 2, 2, 2, 2, 2, 2, 2, 2, 2, 2, 2, 2, 2, 2, 2, 2, 2, 2, 2, 2, 2, 2, 2, 2, 2, 2, 2, 2, 2, 2, 2, 2, 2, 2, 2, 2, 2, 2, 2, 2, 2, 2, 2, 2, 2, 2, 2, 2, 2, 2, 2, 2, 2, 2, 2, 2, 2, 2, 2, 2, 2, 2, 2, 2, 2, 2, 2, 2, 2, 2, 2, 2, 2, 2, 2, 2, 2, 2, 2, 2, 2, 2, 2, 2, 2, 2, 2, 2, 2, 2, 2, 2, 2, 2, 2, 2, 2, 2, 2, 2, 2, 2, 2, 2, 2, 2, 2, 2, 2, 2, 2, 2, 2, 2, 2, 2, 2, 2, 2, 2, 2, 2, 2, 2, 2, 2, 2, 2, 2, 2, 2, 2, 2, 2, 2, 2, 2, 2, 2, 2, 2, 2, 2, 2, 2, 2, 2, 2, 2, 2, 2, 2, 2, 2, 2, 2, 2, 2, 2, 2, 2, 2, 2, 2, 2, 2, 2, 2, 2, 2, 2, 2, 2, 2, 2, 2, 2, 2, 2, 2, 2, 2, 2, 2, 2, 2, 2, 2, 2, 2, 2, 2, 2, 2, 2, 2, 2, 2, 2, 2, 2, 2, 2, 2, 2, 2, 2, 2, 2, 2, 2, 2, 2, 2, 2, 2, 2, 2, 2, 2, 2, 2, 2, 2, 2, 2, 2, 2, 2, 2, 2, 2, 2, 2, 2, 2, 2, 2, 2, 2, 2, 2, 2, 2, 2, 2, 2, 2, 2, 2, 2, 2, 2, 2, 2, 2, 2, 2, 2, 2, 2, 2, 2, 2, 2, 2, 2, 2, 2, 2, 2, 2, 2, 2, 2, 2, 2, 2, 2, 2, 2, 2, 2, 2, 2, 2, 2, 2, 2, 2, 2, 2, 2, 2, 2, 2, 2, 2, 2, 2, 2, 2, 2, 2, 2, 2, 2, 2, 2, 2, 2, 2, 2, 2, 2, 2, 2, 2, 2, 2, 2, 2, 2, 2, 2, 2, 2, 2, 2, 2, 2, 2, 2, 2, 2, 2, 2, 2, 2, 2, 2, 2, 2, 2, 2, 2, 2, 2, 2, 2, 2, 2, 2, 2, 2]\n",
      "(1121, 160, 160, 3) (1121, 3)\n"
     ]
    },
    {
     "name": "stderr",
     "output_type": "stream",
     "text": [
      "\n"
     ]
    }
   ],
   "source": [
    "tmpx, tmpy, class_label, class_num = preprocessing(path) \n",
    "#파일이름이 담긴 배열 \n",
    "print(tmpx.shape, tmpy.shape)"
   ]
  },
  {
   "cell_type": "code",
   "execution_count": 32,
   "metadata": {},
   "outputs": [
    {
     "name": "stdout",
     "output_type": "stream",
     "text": [
      "(896, 160, 160, 3) (225, 160, 160, 3) (896, 3) (225, 3)\n"
     ]
    }
   ],
   "source": [
    "from sklearn.model_selection import train_test_split \n",
    "X_train, X_val, Y_train, Y_val = train_test_split(tmpx,tmpy, test_size = 0.2,random_state = 1) \n",
    "del tmpx \n",
    "del tmpy #RAM메모리 절약을 위해 사용하지 않는 변수 삭제 \n",
    "\n",
    "print(X_train.shape,X_val.shape,Y_train.shape,Y_val.shape)"
   ]
  },
  {
   "cell_type": "code",
   "execution_count": 33,
   "metadata": {},
   "outputs": [],
   "source": [
    "nb_train_samples = len(X_train) \n",
    "nb_validation_samples = len(X_val) \n",
    "batch_size = 16 \n",
    "train_datagen = ImageDataGenerator( \n",
    "    rescale=1. / 255, \n",
    "    shear_range=0.2, \n",
    "    zoom_range=0.2, \n",
    "    horizontal_flip=True) \n",
    "\n",
    "val_datagen = ImageDataGenerator( \n",
    "    rescale=1. / 255, \n",
    "    shear_range=0.2, \n",
    "    zoom_range=0.2, \n",
    "    horizontal_flip=True) \n",
    "\n",
    "train_generator = train_datagen.flow(np.array(X_train), Y_train, batch_size=batch_size) \n",
    "validation_generator = val_datagen.flow(np.array(X_val), Y_val, batch_size=batch_size)"
   ]
  },
  {
   "cell_type": "code",
   "execution_count": 39,
   "metadata": {},
   "outputs": [
    {
     "name": "stdout",
     "output_type": "stream",
     "text": [
      "Model: \"sequential_4\"\n",
      "_________________________________________________________________\n",
      "Layer (type)                 Output Shape              Param #   \n",
      "=================================================================\n",
      "conv2d_12 (Conv2D)           (None, 158, 158, 8)       224       \n",
      "_________________________________________________________________\n",
      "batch_normalization_16 (Batc (None, 158, 158, 8)       32        \n",
      "_________________________________________________________________\n",
      "max_pooling2d_12 (MaxPooling (None, 79, 79, 8)         0         \n",
      "_________________________________________________________________\n",
      "dropout_16 (Dropout)         (None, 79, 79, 8)         0         \n",
      "_________________________________________________________________\n",
      "conv2d_13 (Conv2D)           (None, 77, 77, 16)        1168      \n",
      "_________________________________________________________________\n",
      "batch_normalization_17 (Batc (None, 77, 77, 16)        64        \n",
      "_________________________________________________________________\n",
      "max_pooling2d_13 (MaxPooling (None, 38, 38, 16)        0         \n",
      "_________________________________________________________________\n",
      "dropout_17 (Dropout)         (None, 38, 38, 16)        0         \n",
      "_________________________________________________________________\n",
      "conv2d_14 (Conv2D)           (None, 36, 36, 32)        4640      \n",
      "_________________________________________________________________\n",
      "batch_normalization_18 (Batc (None, 36, 36, 32)        128       \n",
      "_________________________________________________________________\n",
      "max_pooling2d_14 (MaxPooling (None, 18, 18, 32)        0         \n",
      "_________________________________________________________________\n",
      "dropout_18 (Dropout)         (None, 18, 18, 32)        0         \n",
      "_________________________________________________________________\n",
      "flatten_4 (Flatten)          (None, 10368)             0         \n",
      "_________________________________________________________________\n",
      "dense_8 (Dense)              (None, 512)               5308928   \n",
      "_________________________________________________________________\n",
      "batch_normalization_19 (Batc (None, 512)               2048      \n",
      "_________________________________________________________________\n",
      "dropout_19 (Dropout)         (None, 512)               0         \n",
      "_________________________________________________________________\n",
      "dense_9 (Dense)              (None, 3)                 1539      \n",
      "=================================================================\n",
      "Total params: 5,318,771\n",
      "Trainable params: 5,317,635\n",
      "Non-trainable params: 1,136\n",
      "_________________________________________________________________\n"
     ]
    }
   ],
   "source": [
    "model = Sequential()\n",
    "\n",
    "model.add(Conv2D(8, (3, 3), activation='relu', input_shape=(160,160, 3)))\n",
    "model.add(BatchNormalization())\n",
    "model.add(MaxPooling2D(pool_size=(2,2)))\n",
    "model.add(Dropout(0.25))\n",
    "\n",
    "model.add(Conv2D(16,(3,3), activation='relu'))\n",
    "model.add(BatchNormalization())\n",
    "model.add(MaxPooling2D(pool_size=(2,2)))\n",
    "model.add(Dropout(0.25))\n",
    "\n",
    "model.add(Conv2D(32,(3,3), activation='relu'))\n",
    "model.add(BatchNormalization())\n",
    "model.add(MaxPooling2D(pool_size=(2,2)))\n",
    "model.add(Dropout(0.25))\n",
    "\n",
    "model.add(Flatten())\n",
    "model.add(Dense(512, activation='relu'))\n",
    "model.add(BatchNormalization())\n",
    "model.add(Dropout(0.5))\n",
    "model.add(Dense(3, activation='softmax'))\n",
    "\n",
    "model.summary()"
   ]
  },
  {
   "cell_type": "code",
   "execution_count": 40,
   "metadata": {},
   "outputs": [
    {
     "name": "stdout",
     "output_type": "stream",
     "text": [
      "Epoch 1/50\n",
      "56/56 [==============================] - 24s 423ms/step - loss: 0.6390 - accuracy: 0.7946 - val_loss: 4.5555 - val_accuracy: 0.4554\n",
      "Epoch 2/50\n",
      "56/56 [==============================] - 23s 416ms/step - loss: 0.4320 - accuracy: 0.8583 - val_loss: 10.4349 - val_accuracy: 0.4554\n",
      "Epoch 3/50\n",
      "56/56 [==============================] - 23s 415ms/step - loss: 0.3747 - accuracy: 0.8516 - val_loss: 16.5874 - val_accuracy: 0.4554\n",
      "Epoch 4/50\n",
      "56/56 [==============================] - 23s 417ms/step - loss: 0.3887 - accuracy: 0.8650 - val_loss: 26.0078 - val_accuracy: 0.4509\n",
      "Epoch 5/50\n",
      "56/56 [==============================] - 23s 418ms/step - loss: 0.3553 - accuracy: 0.8683 - val_loss: 25.2743 - val_accuracy: 0.4554\n",
      "Epoch 6/50\n",
      "56/56 [==============================] - 23s 416ms/step - loss: 0.3135 - accuracy: 0.8873 - val_loss: 21.1601 - val_accuracy: 0.4554\n",
      "Epoch 7/50\n",
      "56/56 [==============================] - 23s 415ms/step - loss: 0.2806 - accuracy: 0.8817 - val_loss: 11.8010 - val_accuracy: 0.5134\n",
      "Epoch 8/50\n",
      "56/56 [==============================] - 23s 416ms/step - loss: 0.3087 - accuracy: 0.8806 - val_loss: 7.0925 - val_accuracy: 0.6384\n",
      "Epoch 9/50\n",
      "56/56 [==============================] - 23s 419ms/step - loss: 0.3009 - accuracy: 0.8917 - val_loss: 7.9666 - val_accuracy: 0.6696\n",
      "Epoch 10/50\n",
      "56/56 [==============================] - 23s 419ms/step - loss: 0.2416 - accuracy: 0.9085 - val_loss: 5.0971 - val_accuracy: 0.7455\n",
      "Epoch 11/50\n",
      "56/56 [==============================] - 24s 426ms/step - loss: 0.2397 - accuracy: 0.8951 - val_loss: 3.2870 - val_accuracy: 0.7634\n",
      "Epoch 12/50\n",
      "56/56 [==============================] - 23s 419ms/step - loss: 0.3048 - accuracy: 0.8884 - val_loss: 3.4094 - val_accuracy: 0.8125\n",
      "Epoch 13/50\n",
      "56/56 [==============================] - 23s 418ms/step - loss: 0.2524 - accuracy: 0.8984 - val_loss: 2.6637 - val_accuracy: 0.7634\n",
      "Epoch 14/50\n",
      "56/56 [==============================] - 23s 418ms/step - loss: 0.2675 - accuracy: 0.8951 - val_loss: 1.6028 - val_accuracy: 0.7812\n",
      "Epoch 15/50\n",
      "56/56 [==============================] - 24s 427ms/step - loss: 0.2342 - accuracy: 0.9163 - val_loss: 2.4404 - val_accuracy: 0.7902\n",
      "Epoch 16/50\n",
      "56/56 [==============================] - 24s 425ms/step - loss: 0.2651 - accuracy: 0.8962 - val_loss: 3.7982 - val_accuracy: 0.6741\n",
      "Epoch 17/50\n",
      "56/56 [==============================] - 24s 432ms/step - loss: 0.2356 - accuracy: 0.9051 - val_loss: 2.3332 - val_accuracy: 0.7946\n",
      "Epoch 18/50\n",
      "56/56 [==============================] - 23s 419ms/step - loss: 0.2232 - accuracy: 0.9018 - val_loss: 2.9258 - val_accuracy: 0.7366\n",
      "Epoch 19/50\n",
      "56/56 [==============================] - 24s 420ms/step - loss: 0.2181 - accuracy: 0.9152 - val_loss: 4.4451 - val_accuracy: 0.7455\n",
      "Epoch 20/50\n",
      "56/56 [==============================] - 24s 421ms/step - loss: 0.1780 - accuracy: 0.9319 - val_loss: 3.2059 - val_accuracy: 0.7054\n",
      "Epoch 21/50\n",
      "56/56 [==============================] - 24s 420ms/step - loss: 0.2254 - accuracy: 0.9118 - val_loss: 2.3004 - val_accuracy: 0.8080\n",
      "Epoch 22/50\n",
      "56/56 [==============================] - 24s 420ms/step - loss: 0.2065 - accuracy: 0.9141 - val_loss: 3.4403 - val_accuracy: 0.7009\n",
      "Epoch 23/50\n",
      "56/56 [==============================] - 25s 446ms/step - loss: 0.2190 - accuracy: 0.9219 - val_loss: 3.7350 - val_accuracy: 0.7277\n",
      "Epoch 24/50\n",
      "56/56 [==============================] - 24s 428ms/step - loss: 0.2415 - accuracy: 0.9141 - val_loss: 4.6623 - val_accuracy: 0.6830\n",
      "Epoch 25/50\n",
      "56/56 [==============================] - 24s 422ms/step - loss: 0.1787 - accuracy: 0.9297 - val_loss: 20.6272 - val_accuracy: 0.5625\n",
      "Epoch 26/50\n",
      "56/56 [==============================] - 24s 421ms/step - loss: 0.1978 - accuracy: 0.9118 - val_loss: 27.2361 - val_accuracy: 0.5357\n",
      "Epoch 27/50\n",
      "56/56 [==============================] - 23s 419ms/step - loss: 0.2129 - accuracy: 0.9185 - val_loss: 22.4586 - val_accuracy: 0.5714\n",
      "Epoch 28/50\n",
      "56/56 [==============================] - 24s 420ms/step - loss: 0.1912 - accuracy: 0.9308 - val_loss: 1.4493 - val_accuracy: 0.7768\n",
      "Epoch 29/50\n",
      "56/56 [==============================] - 24s 421ms/step - loss: 0.1760 - accuracy: 0.9252 - val_loss: 4.7748 - val_accuracy: 0.6875\n",
      "Epoch 30/50\n",
      "56/56 [==============================] - 24s 437ms/step - loss: 0.2160 - accuracy: 0.9275 - val_loss: 11.9906 - val_accuracy: 0.5848\n",
      "Epoch 31/50\n",
      "56/56 [==============================] - 23s 420ms/step - loss: 0.1655 - accuracy: 0.9308 - val_loss: 15.3407 - val_accuracy: 0.5536\n",
      "Epoch 32/50\n",
      "56/56 [==============================] - 23s 419ms/step - loss: 0.1460 - accuracy: 0.9453 - val_loss: 14.4307 - val_accuracy: 0.5446\n",
      "Epoch 33/50\n",
      "56/56 [==============================] - 23s 418ms/step - loss: 0.1732 - accuracy: 0.9319 - val_loss: 6.1952 - val_accuracy: 0.6295\n",
      "Epoch 34/50\n",
      "56/56 [==============================] - 23s 418ms/step - loss: 0.1917 - accuracy: 0.9319 - val_loss: 13.1218 - val_accuracy: 0.5848\n",
      "Epoch 35/50\n",
      "56/56 [==============================] - 24s 421ms/step - loss: 0.1833 - accuracy: 0.9308 - val_loss: 14.6877 - val_accuracy: 0.5804\n",
      "Epoch 36/50\n",
      "56/56 [==============================] - 23s 419ms/step - loss: 0.1636 - accuracy: 0.9353 - val_loss: 17.0722 - val_accuracy: 0.5357\n",
      "Epoch 37/50\n",
      "56/56 [==============================] - 24s 421ms/step - loss: 0.1972 - accuracy: 0.9252 - val_loss: 10.8074 - val_accuracy: 0.5982\n",
      "Epoch 38/50\n",
      "56/56 [==============================] - 23s 419ms/step - loss: 0.1703 - accuracy: 0.9386 - val_loss: 11.8953 - val_accuracy: 0.6295\n",
      "Epoch 39/50\n",
      "56/56 [==============================] - 24s 422ms/step - loss: 0.1718 - accuracy: 0.9275 - val_loss: 9.8686 - val_accuracy: 0.6250\n",
      "Epoch 40/50\n",
      "56/56 [==============================] - 24s 420ms/step - loss: 0.1643 - accuracy: 0.9386 - val_loss: 4.9290 - val_accuracy: 0.7143\n",
      "Epoch 41/50\n",
      "56/56 [==============================] - 23s 419ms/step - loss: 0.1904 - accuracy: 0.9308 - val_loss: 4.6081 - val_accuracy: 0.7232\n",
      "Epoch 42/50\n",
      "56/56 [==============================] - 23s 418ms/step - loss: 0.1897 - accuracy: 0.9319 - val_loss: 0.8613 - val_accuracy: 0.8616\n",
      "Epoch 43/50\n",
      "56/56 [==============================] - 23s 419ms/step - loss: 0.2268 - accuracy: 0.9129 - val_loss: 3.5979 - val_accuracy: 0.6384\n",
      "Epoch 44/50\n",
      "56/56 [==============================] - 24s 420ms/step - loss: 0.1965 - accuracy: 0.9208 - val_loss: 0.7642 - val_accuracy: 0.8304\n",
      "Epoch 45/50\n",
      "56/56 [==============================] - 24s 420ms/step - loss: 0.2193 - accuracy: 0.9208 - val_loss: 1.0623 - val_accuracy: 0.8170\n",
      "Epoch 46/50\n",
      "56/56 [==============================] - 24s 421ms/step - loss: 0.1800 - accuracy: 0.9353 - val_loss: 1.0632 - val_accuracy: 0.7723\n",
      "Epoch 47/50\n",
      "56/56 [==============================] - 23s 419ms/step - loss: 0.1794 - accuracy: 0.9364 - val_loss: 0.9818 - val_accuracy: 0.8304\n",
      "Epoch 48/50\n",
      "56/56 [==============================] - 24s 421ms/step - loss: 0.2179 - accuracy: 0.9230 - val_loss: 5.0598 - val_accuracy: 0.6875\n",
      "Epoch 49/50\n",
      "56/56 [==============================] - 24s 437ms/step - loss: 0.1707 - accuracy: 0.9286 - val_loss: 5.0521 - val_accuracy: 0.7455\n",
      "Epoch 50/50\n",
      "56/56 [==============================] - 24s 425ms/step - loss: 0.2059 - accuracy: 0.9308 - val_loss: 2.0331 - val_accuracy: 0.7723\n"
     ]
    }
   ],
   "source": [
    "learning_rate = 0.0005\n",
    "\n",
    "\n",
    "model.compile(loss='categorical_crossentropy',\n",
    "             optimizer='adam',\n",
    "             metrics=['accuracy'])\n",
    "\n",
    "history = model.fit_generator(\n",
    "    train_generator,\n",
    "    steps_per_epoch=nb_train_samples // batch_size,\n",
    "    epochs=50,\n",
    "    validation_data=validation_generator, \n",
    "    validation_steps=nb_validation_samples // batch_size,\n",
    "    )"
   ]
  },
  {
   "cell_type": "code",
   "execution_count": 41,
   "metadata": {},
   "outputs": [],
   "source": [
    "acc = history.history['accuracy']\n",
    "val_acc = history.history['val_accuracy']\n",
    "loss = history.history['loss']\n",
    "val_loss = history.history['val_loss']\n",
    "\n",
    "epochs = range(len(acc))"
   ]
  },
  {
   "cell_type": "code",
   "execution_count": 42,
   "metadata": {},
   "outputs": [
    {
     "data": {
      "image/png": "[encoded data removed]",
      "text/plain": [
       "<Figure size 432x288 with 1 Axes>"
      ]
     },
     "metadata": {
      "needs_background": "light"
     },
     "output_type": "display_data"
    },
    {
     "data": {
      "text/plain": [
       "<Figure size 432x288 with 0 Axes>"
      ]
     },
     "metadata": {},
     "output_type": "display_data"
    }
   ],
   "source": [
    "plt.plot(epochs, acc, 'r', label='Training accuracy')\n",
    "plt.plot(epochs, val_acc, 'b', label='Validation accuracy')\n",
    "plt.title('Training and validation accuracy')\n",
    "plt.legend(loc=0)\n",
    "plt.figure()\n",
    "plt.show()"
   ]
  },
  {
   "cell_type": "code",
   "execution_count": 43,
   "metadata": {},
   "outputs": [],
   "source": [
    "from keras.models import load_model\n",
    "\n",
    "model.save('Fruit_Direction_model.h5')"
   ]
  },
  {
   "cell_type": "code",
   "execution_count": null,
   "metadata": {},
   "outputs": [],
   "source": []
  }
 ],
 "metadata": {
  "kernelspec": {
   "display_name": "Python 3",
   "language": "python",
   "name": "python3"
  },
  "language_info": {
   "codemirror_mode": {
    "name": "ipython",
    "version": 3
   },
   "file_extension": ".py",
   "mimetype": "text/x-python",
   "name": "python",
   "nbconvert_exporter": "python",
   "pygments_lexer": "ipython3",
   "version": "3.8.3"
  }
 },
 "nbformat": 4,
 "nbformat_minor": 4
}
