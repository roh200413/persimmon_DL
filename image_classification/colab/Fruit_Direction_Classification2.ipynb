{
 "cells": [
  {
   "cell_type": "code",
   "execution_count": 1,
   "metadata": {},
   "outputs": [],
   "source": [
    "import numpy as np # linear algebra \n",
    "import pandas as pd # data processing, CSV file I/O (e.g. pd.read_csv) \n",
    "import matplotlib.pyplot as plt \n",
    "from PIL import Image , ImageDraw \n",
    "from sklearn.preprocessing import * \n",
    "import time \n",
    "import ast \n",
    "import os \n",
    "import keras \n",
    "import tensorflow as tf \n",
    "from keras import models, layers \n",
    "from keras import Input \n",
    "from keras.models import Model, load_model \n",
    "from keras.preprocessing.image import ImageDataGenerator \n",
    "from keras import optimizers, initializers, regularizers, metrics \n",
    "from keras.callbacks import ModelCheckpoint, EarlyStopping \n",
    "from keras.layers import BatchNormalization, Conv2D, Activation , AveragePooling2D , Input ,Dropout \n",
    "from keras.layers import Dense, GlobalAveragePooling2D, MaxPooling2D, ZeroPadding2D, Add, Flatten \n",
    "from keras.models import Sequential \n",
    "from keras.metrics import top_k_categorical_accuracy \n",
    "from keras.callbacks import ModelCheckpoint, ReduceLROnPlateau, EarlyStopping \n",
    "from keras.applications import ResNet50, vgg19,mobilenet_v2,InceptionV3 , InceptionResNetV2,DenseNet169 \n",
    "from tqdm import tqdm \n",
    "import cv2"
   ]
  },
  {
   "cell_type": "code",
   "execution_count": 4,
   "metadata": {},
   "outputs": [
    {
     "name": "stderr",
     "output_type": "stream",
     "text": [
      "100%|██████████████████████████████████████████████████████████████████████████| 1094/1094 [00:00<00:00, 365448.28it/s]\n"
     ]
    },
    {
     "data": {
      "text/html": [
       "<div>\n",
       "<style scoped>\n",
       "    .dataframe tbody tr th:only-of-type {\n",
       "        vertical-align: middle;\n",
       "    }\n",
       "\n",
       "    .dataframe tbody tr th {\n",
       "        vertical-align: top;\n",
       "    }\n",
       "\n",
       "    .dataframe thead th {\n",
       "        text-align: right;\n",
       "    }\n",
       "</style>\n",
       "<table border=\"1\" class=\"dataframe\">\n",
       "  <thead>\n",
       "    <tr style=\"text-align: right;\">\n",
       "      <th></th>\n",
       "      <th>label</th>\n",
       "      <th>img</th>\n",
       "    </tr>\n",
       "  </thead>\n",
       "  <tbody>\n",
       "    <tr>\n",
       "      <th>0</th>\n",
       "      <td>Back</td>\n",
       "      <td>Back.0.jpg</td>\n",
       "    </tr>\n",
       "    <tr>\n",
       "      <th>1</th>\n",
       "      <td>Back</td>\n",
       "      <td>Back.1.jpg</td>\n",
       "    </tr>\n",
       "    <tr>\n",
       "      <th>2</th>\n",
       "      <td>Back</td>\n",
       "      <td>Back.10.jpg</td>\n",
       "    </tr>\n",
       "    <tr>\n",
       "      <th>3</th>\n",
       "      <td>Back</td>\n",
       "      <td>Back.100.jpg</td>\n",
       "    </tr>\n",
       "    <tr>\n",
       "      <th>4</th>\n",
       "      <td>Back</td>\n",
       "      <td>Back.101.jpg</td>\n",
       "    </tr>\n",
       "  </tbody>\n",
       "</table>\n",
       "</div>"
      ],
      "text/plain": [
       "  label           img\n",
       "0  Back    Back.0.jpg\n",
       "1  Back    Back.1.jpg\n",
       "2  Back   Back.10.jpg\n",
       "3  Back  Back.100.jpg\n",
       "4  Back  Back.101.jpg"
      ]
     },
     "execution_count": 4,
     "metadata": {},
     "output_type": "execute_result"
    }
   ],
   "source": [
    "path ='C:/Users/sdf80/Desktop/fruit_dataset2/Direction2/'\n",
    "filename = os.listdir(path)\n",
    "datalist = pd.DataFrame(data=[], columns=['label','img'])\n",
    "\n",
    "label = []\n",
    "img = []\n",
    "\n",
    "for file in tqdm(filename):\n",
    "    label.append(file.split('.')[0])\n",
    "    img.append(file)\n",
    "    \n",
    "datalist['label'] = label\n",
    "datalist['img'] = img\n",
    "\n",
    "datalist.head()"
   ]
  },
  {
   "cell_type": "code",
   "execution_count": 5,
   "metadata": {},
   "outputs": [
    {
     "name": "stderr",
     "output_type": "stream",
     "text": [
      "No handles with labels found to put in legend.\n"
     ]
    },
    {
     "data": {
      "text/plain": [
       "<matplotlib.legend.Legend at 0x1ab8be2c490>"
      ]
     },
     "execution_count": 5,
     "metadata": {},
     "output_type": "execute_result"
    },
    {
     "data": {
      "image/png": "[encoded data removed]",
      "text/plain": [
       "<Figure size 432x288 with 1 Axes>"
      ]
     },
     "metadata": {
      "needs_background": "light"
     },
     "output_type": "display_data"
    }
   ],
   "source": [
    "FrontNum = 0\n",
    "BackNum = 0\n",
    "SideNum = 0\n",
    "\n",
    "for i in datalist['label']:\n",
    "    if i == 'Front':\n",
    "        FrontNum += 1\n",
    "    if i == 'Back':\n",
    "        BackNum += 1\n",
    "    if i == 'Side':\n",
    "        SideNum += 1\n",
    "        \n",
    "plt.bar(['Front','Back', 'Side'], [FrontNum, BackNum, SideNum])\n",
    "plt.legend()"
   ]
  },
  {
   "cell_type": "code",
   "execution_count": 9,
   "metadata": {},
   "outputs": [],
   "source": [
    "def preprocessing(path) :\n",
    "    X = []\n",
    "    Y = []\n",
    "    class_label = []\n",
    "    class_num = 3\n",
    "    \n",
    "    for num in tqdm(range(len(datalist['img']))) :\n",
    "        img = cv2.imread(path+datalist['img'][num])\n",
    "        img = cv2.cvtColor(img,cv2.COLOR_BGR2RGB)\n",
    "        img = cv2.resize(img,(160,160))\n",
    "        \n",
    "        if datalist['label'][num] == 'Front': \n",
    "            X.append(img) \n",
    "            Y.append(0) \n",
    "        elif  datalist['label'][num] == 'Back': \n",
    "            X.append(img) \n",
    "            Y.append(1)\n",
    "        else:\n",
    "            X.append(img) \n",
    "            Y.append(2)\n",
    "\n",
    "    tmpx = np.array(X) \n",
    "    Y = np.array([[i] for i in Y]) \n",
    "    enc = OneHotEncoder(categories='auto') \n",
    "    enc.fit(Y) \n",
    "    tmpy = enc.transform(Y).toarray() \n",
    "\n",
    "    del X \n",
    "    del Y #RAM메모리 절약을 위해 사용하지 않는 변수 삭제\n",
    "    return tmpx , tmpy , class_label , class_num"
   ]
  },
  {
   "cell_type": "code",
   "execution_count": 10,
   "metadata": {},
   "outputs": [
    {
     "name": "stderr",
     "output_type": "stream",
     "text": [
      "100%|█████████████████████████████████████████████████████████████████████████████| 1094/1094 [00:01<00:00, 626.59it/s]"
     ]
    },
    {
     "name": "stdout",
     "output_type": "stream",
     "text": [
      "(1094, 160, 160, 3) (1094, 3)\n"
     ]
    },
    {
     "name": "stderr",
     "output_type": "stream",
     "text": [
      "\n"
     ]
    }
   ],
   "source": [
    "tmpx, tmpy, class_label, class_num = preprocessing(path) \n",
    "#파일이름이 담긴 배열 \n",
    "print(tmpx.shape, tmpy.shape)"
   ]
  },
  {
   "cell_type": "code",
   "execution_count": 11,
   "metadata": {},
   "outputs": [
    {
     "name": "stdout",
     "output_type": "stream",
     "text": [
      "(875, 160, 160, 3) (219, 160, 160, 3) (875, 3) (219, 3)\n"
     ]
    }
   ],
   "source": [
    "from sklearn.model_selection import train_test_split \n",
    "X_train, X_val, Y_train, Y_val = train_test_split(tmpx,tmpy, test_size = 0.2,random_state = 1) \n",
    "del tmpx \n",
    "del tmpy #RAM메모리 절약을 위해 사용하지 않는 변수 삭제 \n",
    "\n",
    "print(X_train.shape,X_val.shape,Y_train.shape,Y_val.shape)"
   ]
  },
  {
   "cell_type": "code",
   "execution_count": 12,
   "metadata": {},
   "outputs": [],
   "source": [
    "nb_train_samples = len(X_train) \n",
    "nb_validation_samples = len(X_val) \n",
    "batch_size = 16 \n",
    "train_datagen = ImageDataGenerator( \n",
    "    rescale=1. / 255, \n",
    "    shear_range=0.2, \n",
    "    zoom_range=0.2, \n",
    "    horizontal_flip=True) \n",
    "\n",
    "val_datagen = ImageDataGenerator( \n",
    "    rescale=1. / 255, \n",
    "    shear_range=0.2, \n",
    "    zoom_range=0.2, \n",
    "    horizontal_flip=True) \n",
    "\n",
    "train_generator = train_datagen.flow(np.array(X_train), Y_train, batch_size=batch_size) \n",
    "validation_generator = val_datagen.flow(np.array(X_val), Y_val, batch_size=batch_size)"
   ]
  },
  {
   "cell_type": "code",
   "execution_count": 13,
   "metadata": {},
   "outputs": [
    {
     "name": "stdout",
     "output_type": "stream",
     "text": [
      "Model: \"sequential\"\n",
      "_________________________________________________________________\n",
      "Layer (type)                 Output Shape              Param #   \n",
      "=================================================================\n",
      "conv2d (Conv2D)              (None, 158, 158, 8)       224       \n",
      "_________________________________________________________________\n",
      "batch_normalization (BatchNo (None, 158, 158, 8)       32        \n",
      "_________________________________________________________________\n",
      "max_pooling2d (MaxPooling2D) (None, 79, 79, 8)         0         \n",
      "_________________________________________________________________\n",
      "dropout (Dropout)            (None, 79, 79, 8)         0         \n",
      "_________________________________________________________________\n",
      "conv2d_1 (Conv2D)            (None, 77, 77, 16)        1168      \n",
      "_________________________________________________________________\n",
      "batch_normalization_1 (Batch (None, 77, 77, 16)        64        \n",
      "_________________________________________________________________\n",
      "max_pooling2d_1 (MaxPooling2 (None, 38, 38, 16)        0         \n",
      "_________________________________________________________________\n",
      "dropout_1 (Dropout)          (None, 38, 38, 16)        0         \n",
      "_________________________________________________________________\n",
      "conv2d_2 (Conv2D)            (None, 36, 36, 32)        4640      \n",
      "_________________________________________________________________\n",
      "batch_normalization_2 (Batch (None, 36, 36, 32)        128       \n",
      "_________________________________________________________________\n",
      "max_pooling2d_2 (MaxPooling2 (None, 18, 18, 32)        0         \n",
      "_________________________________________________________________\n",
      "dropout_2 (Dropout)          (None, 18, 18, 32)        0         \n",
      "_________________________________________________________________\n",
      "flatten (Flatten)            (None, 10368)             0         \n",
      "_________________________________________________________________\n",
      "dense (Dense)                (None, 512)               5308928   \n",
      "_________________________________________________________________\n",
      "batch_normalization_3 (Batch (None, 512)               2048      \n",
      "_________________________________________________________________\n",
      "dropout_3 (Dropout)          (None, 512)               0         \n",
      "_________________________________________________________________\n",
      "dense_1 (Dense)              (None, 3)                 1539      \n",
      "=================================================================\n",
      "Total params: 5,318,771\n",
      "Trainable params: 5,317,635\n",
      "Non-trainable params: 1,136\n",
      "_________________________________________________________________\n"
     ]
    }
   ],
   "source": [
    "model = Sequential()\n",
    "\n",
    "model.add(Conv2D(8, (3, 3), activation='relu', input_shape=(160,160, 3)))\n",
    "model.add(BatchNormalization())\n",
    "model.add(MaxPooling2D(pool_size=(2,2)))\n",
    "model.add(Dropout(0.25))\n",
    "\n",
    "model.add(Conv2D(16,(3,3), activation='relu'))\n",
    "model.add(BatchNormalization())\n",
    "model.add(MaxPooling2D(pool_size=(2,2)))\n",
    "model.add(Dropout(0.25))\n",
    "\n",
    "model.add(Conv2D(32,(3,3), activation='relu'))\n",
    "model.add(BatchNormalization())\n",
    "model.add(MaxPooling2D(pool_size=(2,2)))\n",
    "model.add(Dropout(0.25))\n",
    "\n",
    "model.add(Flatten())\n",
    "model.add(Dense(512, activation='relu'))\n",
    "model.add(BatchNormalization())\n",
    "model.add(Dropout(0.5))\n",
    "model.add(Dense(3, activation='softmax'))\n",
    "\n",
    "model.summary()"
   ]
  },
  {
   "cell_type": "code",
   "execution_count": 15,
   "metadata": {},
   "outputs": [
    {
     "name": "stdout",
     "output_type": "stream",
     "text": [
      "Epoch 1/50\n",
      "54/54 [==============================] - 23s 424ms/step - loss: 0.1895 - accuracy: 0.9232 - val_loss: 35.8867 - val_accuracy: 0.4423\n",
      "Epoch 2/50\n",
      "54/54 [==============================] - 23s 420ms/step - loss: 0.2148 - accuracy: 0.9243 - val_loss: 26.3851 - val_accuracy: 0.3846\n",
      "Epoch 3/50\n",
      "54/54 [==============================] - 23s 419ms/step - loss: 0.2002 - accuracy: 0.9267 - val_loss: 21.7284 - val_accuracy: 0.4183\n",
      "Epoch 4/50\n",
      "54/54 [==============================] - 22s 416ms/step - loss: 0.1853 - accuracy: 0.9173 - val_loss: 12.7791 - val_accuracy: 0.5240\n",
      "Epoch 5/50\n",
      "54/54 [==============================] - 23s 426ms/step - loss: 0.1993 - accuracy: 0.9243 - val_loss: 5.4249 - val_accuracy: 0.5962\n",
      "Epoch 6/50\n",
      "54/54 [==============================] - 22s 415ms/step - loss: 0.1652 - accuracy: 0.9464 - val_loss: 8.6085 - val_accuracy: 0.6298\n",
      "Epoch 7/50\n",
      "54/54 [==============================] - 23s 418ms/step - loss: 0.1871 - accuracy: 0.9313 - val_loss: 4.6053 - val_accuracy: 0.7212\n",
      "Epoch 8/50\n",
      "54/54 [==============================] - 23s 421ms/step - loss: 0.1597 - accuracy: 0.9313 - val_loss: 11.0853 - val_accuracy: 0.6154\n",
      "Epoch 9/50\n",
      "54/54 [==============================] - 22s 416ms/step - loss: 0.1264 - accuracy: 0.9558 - val_loss: 19.2659 - val_accuracy: 0.4952\n",
      "Epoch 10/50\n",
      "54/54 [==============================] - 23s 420ms/step - loss: 0.1604 - accuracy: 0.9383 - val_loss: 5.7542 - val_accuracy: 0.7596\n",
      "Epoch 11/50\n",
      "54/54 [==============================] - 22s 416ms/step - loss: 0.1767 - accuracy: 0.9243 - val_loss: 11.4105 - val_accuracy: 0.6250\n",
      "Epoch 12/50\n",
      "54/54 [==============================] - 23s 421ms/step - loss: 0.1636 - accuracy: 0.9360 - val_loss: 18.0044 - val_accuracy: 0.5192\n",
      "Epoch 13/50\n",
      "54/54 [==============================] - 23s 422ms/step - loss: 0.1210 - accuracy: 0.9604 - val_loss: 7.4481 - val_accuracy: 0.6490\n",
      "Epoch 14/50\n",
      "54/54 [==============================] - 23s 419ms/step - loss: 0.1547 - accuracy: 0.9406 - val_loss: 13.6631 - val_accuracy: 0.5529\n",
      "Epoch 15/50\n",
      "54/54 [==============================] - 23s 424ms/step - loss: 0.1622 - accuracy: 0.9406 - val_loss: 6.0812 - val_accuracy: 0.7356\n",
      "Epoch 16/50\n",
      "54/54 [==============================] - 23s 417ms/step - loss: 0.1275 - accuracy: 0.9499 - val_loss: 9.4422 - val_accuracy: 0.5577\n",
      "Epoch 17/50\n",
      "54/54 [==============================] - 23s 419ms/step - loss: 0.1349 - accuracy: 0.9476 - val_loss: 8.5121 - val_accuracy: 0.7548\n",
      "Epoch 18/50\n",
      "54/54 [==============================] - 23s 423ms/step - loss: 0.1731 - accuracy: 0.9243 - val_loss: 1.6708 - val_accuracy: 0.7692\n",
      "Epoch 19/50\n",
      "54/54 [==============================] - 22s 415ms/step - loss: 0.1777 - accuracy: 0.9255 - val_loss: 2.5820 - val_accuracy: 0.8317\n",
      "Epoch 20/50\n",
      "54/54 [==============================] - 23s 422ms/step - loss: 0.1518 - accuracy: 0.9441 - val_loss: 1.2553 - val_accuracy: 0.8221\n",
      "Epoch 21/50\n",
      "54/54 [==============================] - 23s 419ms/step - loss: 0.1966 - accuracy: 0.9267 - val_loss: 1.2813 - val_accuracy: 0.8317\n",
      "Epoch 22/50\n",
      "54/54 [==============================] - 23s 425ms/step - loss: 0.1298 - accuracy: 0.9476 - val_loss: 1.0553 - val_accuracy: 0.8846\n",
      "Epoch 23/50\n",
      "54/54 [==============================] - 23s 426ms/step - loss: 0.1726 - accuracy: 0.9302 - val_loss: 1.9214 - val_accuracy: 0.8413\n",
      "Epoch 24/50\n",
      "54/54 [==============================] - 23s 420ms/step - loss: 0.1251 - accuracy: 0.9453 - val_loss: 1.7176 - val_accuracy: 0.8173\n",
      "Epoch 25/50\n",
      "54/54 [==============================] - 23s 427ms/step - loss: 0.1503 - accuracy: 0.9418 - val_loss: 1.4046 - val_accuracy: 0.8654\n",
      "Epoch 26/50\n",
      "54/54 [==============================] - 23s 427ms/step - loss: 0.1076 - accuracy: 0.9476 - val_loss: 1.1223 - val_accuracy: 0.8558\n",
      "Epoch 27/50\n",
      "54/54 [==============================] - 23s 419ms/step - loss: 0.1292 - accuracy: 0.9476 - val_loss: 1.3068 - val_accuracy: 0.8702\n",
      "Epoch 28/50\n",
      "54/54 [==============================] - 23s 424ms/step - loss: 0.1371 - accuracy: 0.9511 - val_loss: 1.6597 - val_accuracy: 0.8558\n",
      "Epoch 29/50\n",
      "54/54 [==============================] - 23s 421ms/step - loss: 0.1303 - accuracy: 0.9558 - val_loss: 1.7478 - val_accuracy: 0.8317\n",
      "Epoch 30/50\n",
      "54/54 [==============================] - 23s 422ms/step - loss: 0.1612 - accuracy: 0.9395 - val_loss: 8.3455 - val_accuracy: 0.8317\n",
      "Epoch 31/50\n",
      "54/54 [==============================] - 23s 424ms/step - loss: 0.1394 - accuracy: 0.9383 - val_loss: 7.5578 - val_accuracy: 0.7404\n",
      "Epoch 32/50\n",
      "54/54 [==============================] - 23s 417ms/step - loss: 0.1391 - accuracy: 0.9441 - val_loss: 12.2561 - val_accuracy: 0.7740\n",
      "Epoch 33/50\n",
      "54/54 [==============================] - 23s 426ms/step - loss: 0.1307 - accuracy: 0.9511 - val_loss: 3.1743 - val_accuracy: 0.8029\n",
      "Epoch 34/50\n",
      "54/54 [==============================] - 23s 422ms/step - loss: 0.1230 - accuracy: 0.9604 - val_loss: 3.4457 - val_accuracy: 0.8846\n",
      "Epoch 35/50\n",
      "54/54 [==============================] - 23s 423ms/step - loss: 0.1548 - accuracy: 0.9395 - val_loss: 2.3140 - val_accuracy: 0.8317\n",
      "Epoch 36/50\n",
      "54/54 [==============================] - 23s 425ms/step - loss: 0.1383 - accuracy: 0.9430 - val_loss: 1.9998 - val_accuracy: 0.7933\n",
      "Epoch 37/50\n",
      "54/54 [==============================] - 23s 419ms/step - loss: 0.1579 - accuracy: 0.9523 - val_loss: 0.8006 - val_accuracy: 0.8750\n",
      "Epoch 38/50\n",
      "54/54 [==============================] - 23s 429ms/step - loss: 0.1214 - accuracy: 0.9488 - val_loss: 1.2769 - val_accuracy: 0.8077\n",
      "Epoch 39/50\n",
      "54/54 [==============================] - 23s 422ms/step - loss: 0.1330 - accuracy: 0.9558 - val_loss: 0.6245 - val_accuracy: 0.8750\n",
      "Epoch 40/50\n",
      "54/54 [==============================] - 23s 419ms/step - loss: 0.1303 - accuracy: 0.9546 - val_loss: 2.5555 - val_accuracy: 0.8269\n",
      "Epoch 41/50\n",
      "54/54 [==============================] - 23s 428ms/step - loss: 0.1381 - accuracy: 0.9488 - val_loss: 1.9173 - val_accuracy: 0.7981\n",
      "Epoch 42/50\n",
      "54/54 [==============================] - 23s 424ms/step - loss: 0.1196 - accuracy: 0.9499 - val_loss: 1.4175 - val_accuracy: 0.8173\n",
      "Epoch 43/50\n",
      "54/54 [==============================] - 23s 418ms/step - loss: 0.1440 - accuracy: 0.9464 - val_loss: 1.2251 - val_accuracy: 0.7981\n",
      "Epoch 44/50\n",
      "54/54 [==============================] - 23s 428ms/step - loss: 0.2352 - accuracy: 0.9139 - val_loss: 0.5994 - val_accuracy: 0.8606\n",
      "Epoch 45/50\n",
      "54/54 [==============================] - 23s 425ms/step - loss: 0.1274 - accuracy: 0.9488 - val_loss: 0.6382 - val_accuracy: 0.8798\n",
      "Epoch 46/50\n",
      "54/54 [==============================] - 23s 424ms/step - loss: 0.1449 - accuracy: 0.9464 - val_loss: 0.6257 - val_accuracy: 0.8606\n",
      "Epoch 47/50\n",
      "54/54 [==============================] - 23s 425ms/step - loss: 0.1269 - accuracy: 0.9593 - val_loss: 0.4978 - val_accuracy: 0.8750\n",
      "Epoch 48/50\n",
      "54/54 [==============================] - 23s 421ms/step - loss: 0.1630 - accuracy: 0.9430 - val_loss: 0.5261 - val_accuracy: 0.8702\n",
      "Epoch 49/50\n",
      "54/54 [==============================] - 23s 423ms/step - loss: 0.1331 - accuracy: 0.9476 - val_loss: 0.5190 - val_accuracy: 0.8462\n",
      "Epoch 50/50\n",
      "54/54 [==============================] - 23s 421ms/step - loss: 0.1320 - accuracy: 0.9511 - val_loss: 0.2659 - val_accuracy: 0.8846\n"
     ]
    }
   ],
   "source": [
    "learning_rate = 0.0005\n",
    "\n",
    "\n",
    "model.compile(loss='categorical_crossentropy',\n",
    "             optimizer='adam',\n",
    "             metrics=['accuracy'])\n",
    "\n",
    "history = model.fit_generator(\n",
    "    train_generator,\n",
    "    steps_per_epoch=nb_train_samples // batch_size,\n",
    "    epochs=50,\n",
    "    validation_data=validation_generator, \n",
    "    validation_steps=nb_validation_samples // batch_size,\n",
    "    )"
   ]
  },
  {
   "cell_type": "code",
   "execution_count": 18,
   "metadata": {},
   "outputs": [],
   "source": [
    "acc = history.history['accuracy']\n",
    "val_acc = history.history['val_accuracy']\n",
    "loss = history.history['loss']\n",
    "val_loss = history.history['val_loss']\n",
    "\n",
    "epochs = range(len(acc))"
   ]
  },
  {
   "cell_type": "code",
   "execution_count": 19,
   "metadata": {},
   "outputs": [
    {
     "data": {
      "image/png": "[encoded data removed]",
      "text/plain": [
       "<Figure size 432x288 with 1 Axes>"
      ]
     },
     "metadata": {
      "needs_background": "light"
     },
     "output_type": "display_data"
    },
    {
     "data": {
      "text/plain": [
       "<Figure size 432x288 with 0 Axes>"
      ]
     },
     "metadata": {},
     "output_type": "display_data"
    }
   ],
   "source": [
    "plt.plot(epochs, acc, 'r', label='Training accuracy')\n",
    "plt.plot(epochs, val_acc, 'b', label='Validation accuracy')\n",
    "plt.title('Training and validation accuracy')\n",
    "plt.legend(loc=0)\n",
    "plt.figure()\n",
    "plt.show()"
   ]
  },
  {
   "cell_type": "code",
   "execution_count": 20,
   "metadata": {},
   "outputs": [],
   "source": [
    "from keras.models import load_model\n",
    "\n",
    "model.save('Fruit_Direction_model2.h5')"
   ]
  },
  {
   "cell_type": "code",
   "execution_count": null,
   "metadata": {},
   "outputs": [],
   "source": []
  }
 ],
 "metadata": {
  "kernelspec": {
   "display_name": "Python 3",
   "language": "python",
   "name": "python3"
  },
  "language_info": {
   "codemirror_mode": {
    "name": "ipython",
    "version": 3
   },
   "file_extension": ".py",
   "mimetype": "text/x-python",
   "name": "python",
   "nbconvert_exporter": "python",
   "pygments_lexer": "ipython3",
   "version": "3.8.3"
  }
 },
 "nbformat": 4,
 "nbformat_minor": 4
}
